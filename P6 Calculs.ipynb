{
 "cells": [
  {
   "cell_type": "markdown",
   "id": "a1f19221",
   "metadata": {},
   "source": [
    "## Projet 6 - Analysez les ventes d'une librairie avec R ou Python"
   ]
  },
  {
   "cell_type": "code",
   "execution_count": 360,
   "id": "70e84106",
   "metadata": {},
   "outputs": [],
   "source": [
    "import pandas as pd\n",
    "import numpy as np\n",
    "import seaborn as sns\n",
    "from patsy import dmatrices\n",
    "from statsmodels.stats.outliers_influence import variance_inflation_factor\n",
    "import statsmodels.api as sm;\n",
    "from datetime import datetime\n",
    "import matplotlib.pyplot as plt\n",
    "import scipy.stats as st\n",
    "from scipy.stats import shapiro\n",
    "from statsmodels.formula.api import ols\n",
    "from statsmodels.graphics.gofplots import qqplot\n",
    "\n",
    "%matplotlib inline\n",
    "\n",
    "folder = \"/Users/yathyarayamauchiferreira/Documents/OpenClassrooms/Projet 6/\"\n",
    "complet = folder + \"df_complet.csv\""
   ]
  },
  {
   "cell_type": "markdown",
   "id": "f6d1c56b",
   "metadata": {},
   "source": [
    "#### Importation du df traité et nettoyé:"
   ]
  },
  {
   "cell_type": "code",
   "execution_count": 361,
   "id": "3277d5c0",
   "metadata": {},
   "outputs": [
    {
     "data": {
      "text/html": [
       "<div>\n",
       "<style scoped>\n",
       "    .dataframe tbody tr th:only-of-type {\n",
       "        vertical-align: middle;\n",
       "    }\n",
       "\n",
       "    .dataframe tbody tr th {\n",
       "        vertical-align: top;\n",
       "    }\n",
       "\n",
       "    .dataframe thead th {\n",
       "        text-align: right;\n",
       "    }\n",
       "</style>\n",
       "<table border=\"1\" class=\"dataframe\">\n",
       "  <thead>\n",
       "    <tr style=\"text-align: right;\">\n",
       "      <th></th>\n",
       "      <th>id_prod</th>\n",
       "      <th>date</th>\n",
       "      <th>session_id</th>\n",
       "      <th>client_id</th>\n",
       "      <th>sex</th>\n",
       "      <th>birth</th>\n",
       "      <th>age</th>\n",
       "      <th>price</th>\n",
       "      <th>categ</th>\n",
       "      <th>year</th>\n",
       "      <th>month</th>\n",
       "      <th>day</th>\n",
       "    </tr>\n",
       "  </thead>\n",
       "  <tbody>\n",
       "    <tr>\n",
       "      <th>0</th>\n",
       "      <td>0_1518</td>\n",
       "      <td>2022-05-20 13:21:29.043970</td>\n",
       "      <td>s_211425</td>\n",
       "      <td>c_103</td>\n",
       "      <td>f</td>\n",
       "      <td>1986</td>\n",
       "      <td>37</td>\n",
       "      <td>4.18</td>\n",
       "      <td>0.0</td>\n",
       "      <td>2022</td>\n",
       "      <td>2022-05</td>\n",
       "      <td>2022-05-20</td>\n",
       "    </tr>\n",
       "    <tr>\n",
       "      <th>1</th>\n",
       "      <td>1_251</td>\n",
       "      <td>2022-02-02 07:55:19.149409</td>\n",
       "      <td>s_158752</td>\n",
       "      <td>c_8534</td>\n",
       "      <td>m</td>\n",
       "      <td>1988</td>\n",
       "      <td>35</td>\n",
       "      <td>15.99</td>\n",
       "      <td>1.0</td>\n",
       "      <td>2022</td>\n",
       "      <td>2022-02</td>\n",
       "      <td>2022-02-02</td>\n",
       "    </tr>\n",
       "    <tr>\n",
       "      <th>2</th>\n",
       "      <td>0_1277</td>\n",
       "      <td>2022-06-18 15:44:33.155329</td>\n",
       "      <td>s_225667</td>\n",
       "      <td>c_6714</td>\n",
       "      <td>f</td>\n",
       "      <td>1968</td>\n",
       "      <td>55</td>\n",
       "      <td>7.99</td>\n",
       "      <td>0.0</td>\n",
       "      <td>2022</td>\n",
       "      <td>2022-06</td>\n",
       "      <td>2022-06-18</td>\n",
       "    </tr>\n",
       "    <tr>\n",
       "      <th>3</th>\n",
       "      <td>2_209</td>\n",
       "      <td>2021-06-24 04:19:29.835891</td>\n",
       "      <td>s_52962</td>\n",
       "      <td>c_6941</td>\n",
       "      <td>m</td>\n",
       "      <td>2000</td>\n",
       "      <td>23</td>\n",
       "      <td>69.99</td>\n",
       "      <td>2.0</td>\n",
       "      <td>2021</td>\n",
       "      <td>2021-06</td>\n",
       "      <td>2021-06-24</td>\n",
       "    </tr>\n",
       "    <tr>\n",
       "      <th>4</th>\n",
       "      <td>0_1509</td>\n",
       "      <td>2023-01-11 08:22:08.194479</td>\n",
       "      <td>s_325227</td>\n",
       "      <td>c_4232</td>\n",
       "      <td>m</td>\n",
       "      <td>1980</td>\n",
       "      <td>43</td>\n",
       "      <td>4.99</td>\n",
       "      <td>0.0</td>\n",
       "      <td>2023</td>\n",
       "      <td>2023-01</td>\n",
       "      <td>2023-01-11</td>\n",
       "    </tr>\n",
       "  </tbody>\n",
       "</table>\n",
       "</div>"
      ],
      "text/plain": [
       "  id_prod                        date session_id client_id sex  birth  age  \\\n",
       "0  0_1518  2022-05-20 13:21:29.043970   s_211425     c_103   f   1986   37   \n",
       "1   1_251  2022-02-02 07:55:19.149409   s_158752    c_8534   m   1988   35   \n",
       "2  0_1277  2022-06-18 15:44:33.155329   s_225667    c_6714   f   1968   55   \n",
       "3   2_209  2021-06-24 04:19:29.835891    s_52962    c_6941   m   2000   23   \n",
       "4  0_1509  2023-01-11 08:22:08.194479   s_325227    c_4232   m   1980   43   \n",
       "\n",
       "   price  categ  year    month         day  \n",
       "0   4.18    0.0  2022  2022-05  2022-05-20  \n",
       "1  15.99    1.0  2022  2022-02  2022-02-02  \n",
       "2   7.99    0.0  2022  2022-06  2022-06-18  \n",
       "3  69.99    2.0  2021  2021-06  2021-06-24  \n",
       "4   4.99    0.0  2023  2023-01  2023-01-11  "
      ]
     },
     "execution_count": 361,
     "metadata": {},
     "output_type": "execute_result"
    }
   ],
   "source": [
    "df_complet = pd.read_csv(complet)\n",
    "df_complet.head()"
   ]
  },
  {
   "cell_type": "code",
   "execution_count": 362,
   "id": "a5a8e610",
   "metadata": {},
   "outputs": [
    {
     "name": "stdout",
     "output_type": "stream",
     "text": [
      "<class 'pandas.core.frame.DataFrame'>\n",
      "RangeIndex: 679332 entries, 0 to 679331\n",
      "Data columns (total 12 columns):\n",
      " #   Column      Non-Null Count   Dtype  \n",
      "---  ------      --------------   -----  \n",
      " 0   id_prod     679332 non-null  object \n",
      " 1   date        679332 non-null  object \n",
      " 2   session_id  679332 non-null  object \n",
      " 3   client_id   679332 non-null  object \n",
      " 4   sex         679332 non-null  object \n",
      " 5   birth       679332 non-null  int64  \n",
      " 6   age         679332 non-null  int64  \n",
      " 7   price       679332 non-null  float64\n",
      " 8   categ       679332 non-null  float64\n",
      " 9   year        679332 non-null  int64  \n",
      " 10  month       679332 non-null  object \n",
      " 11  day         679332 non-null  object \n",
      "dtypes: float64(2), int64(3), object(7)\n",
      "memory usage: 62.2+ MB\n"
     ]
    }
   ],
   "source": [
    "df_complet.info()"
   ]
  },
  {
   "cell_type": "markdown",
   "id": "f08619f4",
   "metadata": {},
   "source": [
    "**Transformer la colonne 'date' en datetime:**"
   ]
  },
  {
   "cell_type": "code",
   "execution_count": 363,
   "id": "95953589",
   "metadata": {},
   "outputs": [
    {
     "name": "stdout",
     "output_type": "stream",
     "text": [
      "<class 'pandas.core.frame.DataFrame'>\n",
      "RangeIndex: 679332 entries, 0 to 679331\n",
      "Data columns (total 12 columns):\n",
      " #   Column      Non-Null Count   Dtype         \n",
      "---  ------      --------------   -----         \n",
      " 0   id_prod     679332 non-null  object        \n",
      " 1   date        679332 non-null  datetime64[ns]\n",
      " 2   session_id  679332 non-null  object        \n",
      " 3   client_id   679332 non-null  object        \n",
      " 4   sex         679332 non-null  object        \n",
      " 5   birth       679332 non-null  int64         \n",
      " 6   age         679332 non-null  int64         \n",
      " 7   price       679332 non-null  float64       \n",
      " 8   categ       679332 non-null  float64       \n",
      " 9   year        679332 non-null  int64         \n",
      " 10  month       679332 non-null  object        \n",
      " 11  day         679332 non-null  object        \n",
      "dtypes: datetime64[ns](1), float64(2), int64(3), object(6)\n",
      "memory usage: 62.2+ MB\n"
     ]
    }
   ],
   "source": [
    "df_complet[\"date\"] = pd.to_datetime(df_complet[\"date\"], yearfirst= True)\n",
    "df_complet.info()"
   ]
  },
  {
   "cell_type": "markdown",
   "id": "1475a4d5",
   "metadata": {},
   "source": [
    "### 1) Analyse des différents indicateurs et graphiques autour du chiffre d'affaire. "
   ]
  },
  {
   "cell_type": "markdown",
   "id": "b89e62fa",
   "metadata": {},
   "source": [
    "**CA Total de l'ensembre de toutes les ventes:**"
   ]
  },
  {
   "cell_type": "code",
   "execution_count": 364,
   "id": "c3c92010",
   "metadata": {},
   "outputs": [
    {
     "name": "stdout",
     "output_type": "stream",
     "text": [
      "Le CA total réalisé est de 11,855,936.47 euros\n"
     ]
    }
   ],
   "source": [
    "CA_total = df_complet.price.sum()\n",
    "print('Le CA total réalisé est de {:,} euros'.format(df_complet.price.sum()))"
   ]
  },
  {
   "cell_type": "code",
   "execution_count": 365,
   "id": "1e8ad231",
   "metadata": {},
   "outputs": [
    {
     "name": "stdout",
     "output_type": "stream",
     "text": [
      "Le total de ventes réalisées est de 679,332\n"
     ]
    }
   ],
   "source": [
    "print('Le total de ventes réalisées est de {:,}'.format(df_complet.session_id.count()))"
   ]
  },
  {
   "cell_type": "code",
   "execution_count": 366,
   "id": "7d104c06",
   "metadata": {},
   "outputs": [
    {
     "name": "stdout",
     "output_type": "stream",
     "text": [
      "Chiffres d'affaires annuels:\n",
      " year\n",
      "2021    4771695.69\n",
      "2022    6109880.61\n",
      "2023     974360.17\n",
      "Name: price, dtype: float64\n"
     ]
    }
   ],
   "source": [
    "ca_annuel = df_complet.groupby([\"year\"])[\"price\"].sum()\n",
    "print(\"Chiffres d'affaires annuels:\\n\", ca_annuel)"
   ]
  },
  {
   "cell_type": "markdown",
   "id": "7440738b",
   "metadata": {},
   "source": [
    "**Analyse des ventes annuelles:**"
   ]
  },
  {
   "cell_type": "code",
   "execution_count": 367,
   "id": "9c725e5c",
   "metadata": {},
   "outputs": [
    {
     "name": "stdout",
     "output_type": "stream",
     "text": [
      "Nombre de ventes annuelles:\n",
      " year\n",
      "2021    278335\n",
      "2022    346500\n",
      "2023     54497\n",
      "Name: session_id, dtype: int64\n"
     ]
    }
   ],
   "source": [
    "ventes_annuelles = df_complet.groupby([\"year\"])[\"session_id\"].count()\n",
    "print(\"Nombre de ventes annuelles:\\n\", ventes_annuelles)"
   ]
  },
  {
   "cell_type": "code",
   "execution_count": 368,
   "id": "b8f86e65",
   "metadata": {},
   "outputs": [
    {
     "name": "stdout",
     "output_type": "stream",
     "text": [
      "84255    2023-02-28 23:58:30.792755\n",
      "550293   2023-02-28 23:58:00.107815\n",
      "130140   2023-02-28 23:53:18.929676\n",
      "Name: date, dtype: datetime64[ns]\n"
     ]
    }
   ],
   "source": [
    "print(df_complet[\"date\"].nlargest(3))"
   ]
  },
  {
   "cell_type": "markdown",
   "id": "22806a3c",
   "metadata": {},
   "source": [
    "2022 est la meilleure année pour les ventes mais l'année 2023 n'est pas encore terminée. La dernière vente de 2023 a été effectuée le 2023-02-28"
   ]
  },
  {
   "cell_type": "markdown",
   "id": "a1b92d67",
   "metadata": {},
   "source": [
    "**CA et nombre de ventes mensuelles par année:**"
   ]
  },
  {
   "cell_type": "code",
   "execution_count": 369,
   "id": "cf074adf",
   "metadata": {},
   "outputs": [
    {
     "data": {
      "text/plain": [
       "year  month  \n",
       "2021  2021-03    482530.52\n",
       "      2021-04    476249.16\n",
       "      2021-05    493023.39\n",
       "      2021-06    484158.49\n",
       "      2021-07    482875.36\n",
       "      2021-08    482374.70\n",
       "      2021-09    507360.56\n",
       "      2021-10    320868.67\n",
       "      2021-11    516267.63\n",
       "      2021-12    525987.21\n",
       "2022  2022-01    525388.94\n",
       "      2022-02    535681.39\n",
       "      2022-03    515566.42\n",
       "      2022-04    493138.80\n",
       "      2022-05    517292.44\n",
       "      2022-06    496086.05\n",
       "      2022-07    510903.00\n",
       "      2022-08    506547.19\n",
       "      2022-09    494204.44\n",
       "      2022-10    508017.67\n",
       "      2022-11    496774.83\n",
       "      2022-12    510279.44\n",
       "2023  2023-01    517610.48\n",
       "      2023-02    456749.69\n",
       "Name: price, dtype: float64"
      ]
     },
     "execution_count": 369,
     "metadata": {},
     "output_type": "execute_result"
    }
   ],
   "source": [
    "df_complet = df_complet.sort_values([\"date\"],ascending=True)\n",
    "ca_mensuel = df_complet.groupby([\"year\",\"month\"])[\"price\"].sum()\n",
    "ca_mensuel"
   ]
  },
  {
   "cell_type": "markdown",
   "id": "064ce9b5",
   "metadata": {},
   "source": [
    "Constat: Montant des ventes mensuelles stables, sauf pour le mois d'octobre 2021"
   ]
  },
  {
   "cell_type": "code",
   "execution_count": 370,
   "id": "17f0bd56",
   "metadata": {},
   "outputs": [
    {
     "data": {
      "text/plain": [
       "year  month  \n",
       "2021  2021-03    28610\n",
       "      2021-04    28457\n",
       "      2021-05    28293\n",
       "      2021-06    26857\n",
       "      2021-07    24742\n",
       "      2021-08    25659\n",
       "      2021-09    33326\n",
       "      2021-10    21606\n",
       "      2021-11    28321\n",
       "      2021-12    32464\n",
       "2022  2022-01    29348\n",
       "      2022-02    29605\n",
       "      2022-03    29707\n",
       "      2022-04    27616\n",
       "      2022-05    29991\n",
       "      2022-06    28511\n",
       "      2022-07    28682\n",
       "      2022-08    28552\n",
       "      2022-09    28315\n",
       "      2022-10    28974\n",
       "      2022-11    28574\n",
       "      2022-12    28625\n",
       "2023  2023-01    28945\n",
       "      2023-02    25552\n",
       "Name: session_id, dtype: int64"
      ]
     },
     "execution_count": 370,
     "metadata": {},
     "output_type": "execute_result"
    }
   ],
   "source": [
    "ventes_mensuelles = df_complet.groupby([\"year\", \"month\"])[\"session_id\"].count()\n",
    "ventes_mensuelles"
   ]
  },
  {
   "cell_type": "code",
   "execution_count": 371,
   "id": "df98fb5a",
   "metadata": {},
   "outputs": [
    {
     "data": {
      "text/html": [
       "<div>\n",
       "<style scoped>\n",
       "    .dataframe tbody tr th:only-of-type {\n",
       "        vertical-align: middle;\n",
       "    }\n",
       "\n",
       "    .dataframe tbody tr th {\n",
       "        vertical-align: top;\n",
       "    }\n",
       "\n",
       "    .dataframe thead th {\n",
       "        text-align: right;\n",
       "    }\n",
       "</style>\n",
       "<table border=\"1\" class=\"dataframe\">\n",
       "  <thead>\n",
       "    <tr style=\"text-align: right;\">\n",
       "      <th></th>\n",
       "      <th>age</th>\n",
       "      <th>m</th>\n",
       "      <th>f</th>\n",
       "      <th>amount</th>\n",
       "      <th>avg_price</th>\n",
       "      <th>count</th>\n",
       "      <th>categ_0</th>\n",
       "      <th>categ_1</th>\n",
       "      <th>categ_2</th>\n",
       "    </tr>\n",
       "    <tr>\n",
       "      <th>month</th>\n",
       "      <th></th>\n",
       "      <th></th>\n",
       "      <th></th>\n",
       "      <th></th>\n",
       "      <th></th>\n",
       "      <th></th>\n",
       "      <th></th>\n",
       "      <th></th>\n",
       "      <th></th>\n",
       "    </tr>\n",
       "  </thead>\n",
       "  <tbody>\n",
       "    <tr>\n",
       "      <th>2021-03</th>\n",
       "      <td>45.2</td>\n",
       "      <td>14161</td>\n",
       "      <td>14449</td>\n",
       "      <td>482,530.52</td>\n",
       "      <td>16.87</td>\n",
       "      <td>28610</td>\n",
       "      <td>18140</td>\n",
       "      <td>9134</td>\n",
       "      <td>1336</td>\n",
       "    </tr>\n",
       "    <tr>\n",
       "      <th>2021-04</th>\n",
       "      <td>44.9</td>\n",
       "      <td>14283</td>\n",
       "      <td>14174</td>\n",
       "      <td>476,249.16</td>\n",
       "      <td>16.74</td>\n",
       "      <td>28457</td>\n",
       "      <td>19356</td>\n",
       "      <td>7579</td>\n",
       "      <td>1522</td>\n",
       "    </tr>\n",
       "    <tr>\n",
       "      <th>2021-05</th>\n",
       "      <td>45.0</td>\n",
       "      <td>14219</td>\n",
       "      <td>14074</td>\n",
       "      <td>493,023.39</td>\n",
       "      <td>17.43</td>\n",
       "      <td>28293</td>\n",
       "      <td>18509</td>\n",
       "      <td>8107</td>\n",
       "      <td>1677</td>\n",
       "    </tr>\n",
       "    <tr>\n",
       "      <th>2021-06</th>\n",
       "      <td>45.0</td>\n",
       "      <td>13303</td>\n",
       "      <td>13554</td>\n",
       "      <td>484,158.49</td>\n",
       "      <td>18.03</td>\n",
       "      <td>26857</td>\n",
       "      <td>15905</td>\n",
       "      <td>9264</td>\n",
       "      <td>1688</td>\n",
       "    </tr>\n",
       "    <tr>\n",
       "      <th>2021-07</th>\n",
       "      <td>44.8</td>\n",
       "      <td>12285</td>\n",
       "      <td>12457</td>\n",
       "      <td>482,875.36</td>\n",
       "      <td>19.52</td>\n",
       "      <td>24742</td>\n",
       "      <td>13582</td>\n",
       "      <td>9169</td>\n",
       "      <td>1991</td>\n",
       "    </tr>\n",
       "    <tr>\n",
       "      <th>2021-08</th>\n",
       "      <td>44.7</td>\n",
       "      <td>12771</td>\n",
       "      <td>12888</td>\n",
       "      <td>482,374.70</td>\n",
       "      <td>18.80</td>\n",
       "      <td>25659</td>\n",
       "      <td>15737</td>\n",
       "      <td>7954</td>\n",
       "      <td>1968</td>\n",
       "    </tr>\n",
       "    <tr>\n",
       "      <th>2021-09</th>\n",
       "      <td>45.7</td>\n",
       "      <td>16402</td>\n",
       "      <td>16924</td>\n",
       "      <td>507,360.56</td>\n",
       "      <td>15.22</td>\n",
       "      <td>33326</td>\n",
       "      <td>23154</td>\n",
       "      <td>9268</td>\n",
       "      <td>904</td>\n",
       "    </tr>\n",
       "    <tr>\n",
       "      <th>2021-10</th>\n",
       "      <td>44.1</td>\n",
       "      <td>10495</td>\n",
       "      <td>11111</td>\n",
       "      <td>320,868.67</td>\n",
       "      <td>14.85</td>\n",
       "      <td>21606</td>\n",
       "      <td>18769</td>\n",
       "      <td>1666</td>\n",
       "      <td>1171</td>\n",
       "    </tr>\n",
       "    <tr>\n",
       "      <th>2021-11</th>\n",
       "      <td>45.6</td>\n",
       "      <td>14060</td>\n",
       "      <td>14261</td>\n",
       "      <td>516,267.63</td>\n",
       "      <td>18.23</td>\n",
       "      <td>28321</td>\n",
       "      <td>14610</td>\n",
       "      <td>12316</td>\n",
       "      <td>1395</td>\n",
       "    </tr>\n",
       "    <tr>\n",
       "      <th>2021-12</th>\n",
       "      <td>45.9</td>\n",
       "      <td>16146</td>\n",
       "      <td>16318</td>\n",
       "      <td>525,987.21</td>\n",
       "      <td>16.20</td>\n",
       "      <td>32464</td>\n",
       "      <td>19309</td>\n",
       "      <td>12259</td>\n",
       "      <td>896</td>\n",
       "    </tr>\n",
       "  </tbody>\n",
       "</table>\n",
       "</div>"
      ],
      "text/plain": [
       "          age      m      f      amount avg_price  count  categ_0  categ_1  \\\n",
       "month                                                                        \n",
       "2021-03  45.2  14161  14449  482,530.52     16.87  28610    18140     9134   \n",
       "2021-04  44.9  14283  14174  476,249.16     16.74  28457    19356     7579   \n",
       "2021-05  45.0  14219  14074  493,023.39     17.43  28293    18509     8107   \n",
       "2021-06  45.0  13303  13554  484,158.49     18.03  26857    15905     9264   \n",
       "2021-07  44.8  12285  12457  482,875.36     19.52  24742    13582     9169   \n",
       "2021-08  44.7  12771  12888  482,374.70     18.80  25659    15737     7954   \n",
       "2021-09  45.7  16402  16924  507,360.56     15.22  33326    23154     9268   \n",
       "2021-10  44.1  10495  11111  320,868.67     14.85  21606    18769     1666   \n",
       "2021-11  45.6  14060  14261  516,267.63     18.23  28321    14610    12316   \n",
       "2021-12  45.9  16146  16318  525,987.21     16.20  32464    19309    12259   \n",
       "\n",
       "         categ_2  \n",
       "month             \n",
       "2021-03     1336  \n",
       "2021-04     1522  \n",
       "2021-05     1677  \n",
       "2021-06     1688  \n",
       "2021-07     1991  \n",
       "2021-08     1968  \n",
       "2021-09      904  \n",
       "2021-10     1171  \n",
       "2021-11     1395  \n",
       "2021-12      896  "
      ]
     },
     "execution_count": 371,
     "metadata": {},
     "output_type": "execute_result"
    }
   ],
   "source": [
    "df_complet[['0','1','2']]=pd.get_dummies(df_complet['categ'])\n",
    "df_complet[['m','f']]=pd.get_dummies(df_complet['sex'])\n",
    "df_all_by_month=df_complet.groupby('month').agg(\n",
    "    age=('age', np.mean),\n",
    "    m=('m', np.count_nonzero),\n",
    "    f=('f', np.count_nonzero),\n",
    "    amount=('price', np.sum),\n",
    "    avg_price=('price', np.mean),\n",
    "    count=('session_id', np.count_nonzero),\n",
    "    categ_0=('0', np.count_nonzero),\n",
    "    categ_1=('1', np.count_nonzero),\n",
    "    categ_2=('2', np.count_nonzero))\n",
    "df_all_by_month.sort_values(by='month',ascending=True,inplace=True)\n",
    "df_all_by_month['amount']=df_all_by_month['amount'].apply(lambda x : \"{:,.2f}\".format(x))\n",
    "df_all_by_month['avg_price']=df_all_by_month['avg_price'].apply(lambda x : \"{:,.2f}\".format(x))\n",
    "df_all_by_month['age']=df_all_by_month['age'].apply(lambda x : \"{:,.1f}\".format(x))\n",
    "df_all_by_month.head(10)"
   ]
  },
  {
   "cell_type": "markdown",
   "id": "394b8537",
   "metadata": {},
   "source": [
    "**Creation d'un dataframe specifique par categories avec fonction d'agregation:**"
   ]
  },
  {
   "cell_type": "code",
   "execution_count": 506,
   "id": "b5194efc",
   "metadata": {},
   "outputs": [
    {
     "data": {
      "text/html": [
       "<div>\n",
       "<style scoped>\n",
       "    .dataframe tbody tr th:only-of-type {\n",
       "        vertical-align: middle;\n",
       "    }\n",
       "\n",
       "    .dataframe tbody tr th {\n",
       "        vertical-align: top;\n",
       "    }\n",
       "\n",
       "    .dataframe thead th {\n",
       "        text-align: right;\n",
       "    }\n",
       "</style>\n",
       "<table border=\"1\" class=\"dataframe\">\n",
       "  <thead>\n",
       "    <tr style=\"text-align: right;\">\n",
       "      <th></th>\n",
       "      <th>year</th>\n",
       "      <th>categ_0</th>\n",
       "      <th>categ_1</th>\n",
       "      <th>categ_2</th>\n",
       "      <th>nombre_categ_0</th>\n",
       "      <th>nombre_categ_1</th>\n",
       "      <th>nombre_categ_2</th>\n",
       "    </tr>\n",
       "    <tr>\n",
       "      <th>month</th>\n",
       "      <th></th>\n",
       "      <th></th>\n",
       "      <th></th>\n",
       "      <th></th>\n",
       "      <th></th>\n",
       "      <th></th>\n",
       "      <th></th>\n",
       "    </tr>\n",
       "  </thead>\n",
       "  <tbody>\n",
       "    <tr>\n",
       "      <th>2021-03</th>\n",
       "      <td>2021</td>\n",
       "      <td>193719.08</td>\n",
       "      <td>186974.17</td>\n",
       "      <td>101837.27</td>\n",
       "      <td>18140</td>\n",
       "      <td>9134</td>\n",
       "      <td>1336</td>\n",
       "    </tr>\n",
       "    <tr>\n",
       "      <th>2021-04</th>\n",
       "      <td>2021</td>\n",
       "      <td>205362.32</td>\n",
       "      <td>156138.35</td>\n",
       "      <td>114748.49</td>\n",
       "      <td>19356</td>\n",
       "      <td>7579</td>\n",
       "      <td>1522</td>\n",
       "    </tr>\n",
       "    <tr>\n",
       "      <th>2021-05</th>\n",
       "      <td>2021</td>\n",
       "      <td>196266.64</td>\n",
       "      <td>165893.40</td>\n",
       "      <td>130863.35</td>\n",
       "      <td>18509</td>\n",
       "      <td>8107</td>\n",
       "      <td>1677</td>\n",
       "    </tr>\n",
       "    <tr>\n",
       "      <th>2021-06</th>\n",
       "      <td>2021</td>\n",
       "      <td>168013.08</td>\n",
       "      <td>189162.04</td>\n",
       "      <td>126983.37</td>\n",
       "      <td>15905</td>\n",
       "      <td>9264</td>\n",
       "      <td>1688</td>\n",
       "    </tr>\n",
       "    <tr>\n",
       "      <th>2021-07</th>\n",
       "      <td>2021</td>\n",
       "      <td>144790.75</td>\n",
       "      <td>188523.27</td>\n",
       "      <td>149561.34</td>\n",
       "      <td>13582</td>\n",
       "      <td>9169</td>\n",
       "      <td>1991</td>\n",
       "    </tr>\n",
       "  </tbody>\n",
       "</table>\n",
       "</div>"
      ],
      "text/plain": [
       "         year    categ_0    categ_1    categ_2  nombre_categ_0  \\\n",
       "month                                                            \n",
       "2021-03  2021  193719.08  186974.17  101837.27           18140   \n",
       "2021-04  2021  205362.32  156138.35  114748.49           19356   \n",
       "2021-05  2021  196266.64  165893.40  130863.35           18509   \n",
       "2021-06  2021  168013.08  189162.04  126983.37           15905   \n",
       "2021-07  2021  144790.75  188523.27  149561.34           13582   \n",
       "\n",
       "         nombre_categ_1  nombre_categ_2  \n",
       "month                                    \n",
       "2021-03            9134            1336  \n",
       "2021-04            7579            1522  \n",
       "2021-05            8107            1677  \n",
       "2021-06            9264            1688  \n",
       "2021-07            9169            1991  "
      ]
     },
     "execution_count": 506,
     "metadata": {},
     "output_type": "execute_result"
    }
   ],
   "source": [
    "df_mensu_agg = df_complet[[\"categ\", \"price\", \"year\", \"month\"]]\n",
    "df_mensu_agg = pd.pivot_table(df_mensu_agg, index=[\"year\",\"month\"], columns=[\"categ\"], aggfunc=[\"sum\", \"count\"]).reset_index()\n",
    "df_mensu_agg.columns = [\"year\", \"month\", \"categ_0\", \"categ_1\", \"categ_2\", \"nombre_categ_0\", \"nombre_categ_1\", \"nombre_categ_2\"]\n",
    "df_mensu_agg.set_index('month',inplace = True)\n",
    "df_mensu_agg.head()"
   ]
  },
  {
   "cell_type": "code",
   "execution_count": 374,
   "id": "0424fa26",
   "metadata": {},
   "outputs": [
    {
     "data": {
      "image/png": "[encoded data removed]",
      "text/plain": [
       "<Figure size 640x480 with 1 Axes>"
      ]
     },
     "metadata": {},
     "output_type": "display_data"
    }
   ],
   "source": [
    "mois = df_mensu_agg.index\n",
    "\n",
    "CA_categ = {\n",
    "    \"Categ 0\": df_mensu_agg[\"categ_0\"],\n",
    "    \"Categ 1\": df_mensu_agg[\"categ_1\"],\n",
    "    \"Categ 2\": df_mensu_agg[\"categ_2\"],\n",
    "}\n",
    "width = 0.5\n",
    "\n",
    "fig, ax = plt.subplots()\n",
    "bottom = np.zeros(df_mensu_agg.shape[0])\n",
    "\n",
    "for boolean, CA_categ in CA_categ.items():\n",
    "    p = ax.bar(mois, CA_categ, width, label=boolean, bottom=bottom)\n",
    "    bottom += CA_categ\n",
    "\n",
    "ax.set_title(\"Évolution mensuelle du CHIFFRE D'AFFAIRE par catégorie\")\n",
    "ax.legend(loc=\"upper right\")\n",
    "plt.xticks(rotation=90)\n",
    "plt.show()"
   ]
  },
  {
   "cell_type": "code",
   "execution_count": 375,
   "id": "a56224ba",
   "metadata": {},
   "outputs": [
    {
     "data": {
      "image/png": "[encoded data removed]",
      "text/plain": [
       "<Figure size 640x480 with 1 Axes>"
      ]
     },
     "metadata": {},
     "output_type": "display_data"
    }
   ],
   "source": [
    "mois = df_mensu_agg.index\n",
    "\n",
    "CA_categ = {\n",
    "    \"Categ 0\": df_mensu_agg[\"nombre_categ_0\"],\n",
    "    \"Categ 1\": df_mensu_agg[\"nombre_categ_1\"],\n",
    "    \"Categ 2\": df_mensu_agg[\"nombre_categ_2\"],\n",
    "}\n",
    "width = 0.5\n",
    "\n",
    "fig, ax = plt.subplots()\n",
    "bottom = np.zeros(df_mensu_agg.shape[0])\n",
    "\n",
    "for boolean, CA_categ in CA_categ.items():\n",
    "    p = ax.bar(mois, CA_categ, width, label=boolean, bottom=bottom)\n",
    "    bottom += CA_categ\n",
    "\n",
    "ax.set_title(\"Évolution mensuelle du NOMBRE DE VENTE par catégorie\")\n",
    "ax.legend(loc=\"upper right\")\n",
    "plt.xticks(rotation=90)\n",
    "plt.show()"
   ]
  },
  {
   "cell_type": "markdown",
   "id": "df239e51",
   "metadata": {},
   "source": [
    "**On remarque que les ventes de catégorie 1 a eu une forte baisse au mois d'octobre 2021**"
   ]
  },
  {
   "cell_type": "markdown",
   "id": "60bb9ea7",
   "metadata": {},
   "source": [
    "### Zoom sur le mois d'octobre 2021:"
   ]
  },
  {
   "cell_type": "code",
   "execution_count": 505,
   "id": "886495d8",
   "metadata": {},
   "outputs": [
    {
     "data": {
      "text/html": [
       "<div>\n",
       "<style scoped>\n",
       "    .dataframe tbody tr th:only-of-type {\n",
       "        vertical-align: middle;\n",
       "    }\n",
       "\n",
       "    .dataframe tbody tr th {\n",
       "        vertical-align: top;\n",
       "    }\n",
       "\n",
       "    .dataframe thead th {\n",
       "        text-align: right;\n",
       "    }\n",
       "</style>\n",
       "<table border=\"1\" class=\"dataframe\">\n",
       "  <thead>\n",
       "    <tr style=\"text-align: right;\">\n",
       "      <th></th>\n",
       "      <th>categ_0</th>\n",
       "      <th>categ_1</th>\n",
       "      <th>categ_2</th>\n",
       "    </tr>\n",
       "    <tr>\n",
       "      <th>day</th>\n",
       "      <th></th>\n",
       "      <th></th>\n",
       "      <th></th>\n",
       "    </tr>\n",
       "  </thead>\n",
       "  <tbody>\n",
       "    <tr>\n",
       "      <th>2021-10-01</th>\n",
       "      <td>6950.50</td>\n",
       "      <td>7003.79</td>\n",
       "      <td>3104.05</td>\n",
       "    </tr>\n",
       "    <tr>\n",
       "      <th>2021-10-02</th>\n",
       "      <td>7141.01</td>\n",
       "      <td>NaN</td>\n",
       "      <td>2041.12</td>\n",
       "    </tr>\n",
       "    <tr>\n",
       "      <th>2021-10-03</th>\n",
       "      <td>6786.57</td>\n",
       "      <td>NaN</td>\n",
       "      <td>2206.48</td>\n",
       "    </tr>\n",
       "    <tr>\n",
       "      <th>2021-10-04</th>\n",
       "      <td>6553.58</td>\n",
       "      <td>NaN</td>\n",
       "      <td>2746.08</td>\n",
       "    </tr>\n",
       "    <tr>\n",
       "      <th>2021-10-05</th>\n",
       "      <td>6357.91</td>\n",
       "      <td>NaN</td>\n",
       "      <td>3032.55</td>\n",
       "    </tr>\n",
       "  </tbody>\n",
       "</table>\n",
       "</div>"
      ],
      "text/plain": [
       "            categ_0  categ_1  categ_2\n",
       "day                                  \n",
       "2021-10-01  6950.50  7003.79  3104.05\n",
       "2021-10-02  7141.01      NaN  2041.12\n",
       "2021-10-03  6786.57      NaN  2206.48\n",
       "2021-10-04  6553.58      NaN  2746.08\n",
       "2021-10-05  6357.91      NaN  3032.55"
      ]
     },
     "execution_count": 505,
     "metadata": {},
     "output_type": "execute_result"
    }
   ],
   "source": [
    "df_par_jour=df_complet[(df_complet.month=='2021-10')&(df_complet.categ==0)].groupby('day').agg(\n",
    "    categ_0=('price', np.sum))\n",
    "df_par_jour['categ_1']=df_complet[(df_complet.month=='2021-10')&(df_complet.categ==1)].groupby('day').agg(\n",
    "    categ_1=('price', np.sum))\n",
    "df_par_jour['categ_2']=df_complet[(df_complet.month=='2021-10')&(df_complet.categ==2)].groupby('day').agg(\n",
    "    categ_2=('price', np.sum))\n",
    "df_par_jour.head()"
   ]
  },
  {
   "cell_type": "code",
   "execution_count": 504,
   "id": "6a199e62",
   "metadata": {},
   "outputs": [
    {
     "data": {
      "text/plain": [
       "<AxesSubplot:xlabel='day'>"
      ]
     },
     "execution_count": 504,
     "metadata": {},
     "output_type": "execute_result"
    },
    {
     "data": {
      "image/png": "[encoded data removed]",
      "text/plain": [
       "<Figure size 640x480 with 1 Axes>"
      ]
     },
     "metadata": {},
     "output_type": "display_data"
    }
   ],
   "source": [
    "df_par_jour.plot(kind=\"bar\",stacked=True)"
   ]
  },
  {
   "cell_type": "markdown",
   "id": "90a2a7a5",
   "metadata": {},
   "source": [
    "**Il n'y a pas eu de ventes de livres de catégorie 1 entre le 1er et le 28 octobre 2021** "
   ]
  },
  {
   "cell_type": "markdown",
   "id": "3ee50d92",
   "metadata": {},
   "source": [
    "**Calcul de la Moyenne Mobile du Chiffre d'affaire:**"
   ]
  },
  {
   "cell_type": "code",
   "execution_count": 376,
   "id": "0a2f2f5c",
   "metadata": {},
   "outputs": [
    {
     "data": {
      "text/plain": [
       "year  month  \n",
       "2021  2021-03              NaN\n",
       "      2021-04              NaN\n",
       "      2021-05    483934.356667\n",
       "      2021-06    484477.013333\n",
       "      2021-07    486685.746667\n",
       "      2021-08    483136.183333\n",
       "      2021-09    490870.206667\n",
       "      2021-10    436867.976667\n",
       "      2021-11    448165.620000\n",
       "      2021-12    454374.503333\n",
       "2022  2022-01    522547.926667\n",
       "      2022-02    529019.180000\n",
       "      2022-03    525545.583333\n",
       "      2022-04    514795.536667\n",
       "      2022-05    508665.886667\n",
       "      2022-06    502172.430000\n",
       "      2022-07    508093.830000\n",
       "      2022-08    504512.080000\n",
       "      2022-09    503884.876667\n",
       "      2022-10    502923.100000\n",
       "      2022-11    499665.646667\n",
       "      2022-12    505023.980000\n",
       "2023  2023-01    508221.583333\n",
       "      2023-02    494879.870000\n",
       "Name: price, dtype: float64"
      ]
     },
     "execution_count": 376,
     "metadata": {},
     "output_type": "execute_result"
    }
   ],
   "source": [
    "Moyenne_mobile = ca_mensuel.rolling(3).mean()\n",
    "Moyenne_mobile"
   ]
  },
  {
   "cell_type": "code",
   "execution_count": 377,
   "id": "88a5b298",
   "metadata": {},
   "outputs": [
    {
     "data": {
      "text/html": [
       "<div>\n",
       "<style scoped>\n",
       "    .dataframe tbody tr th:only-of-type {\n",
       "        vertical-align: middle;\n",
       "    }\n",
       "\n",
       "    .dataframe tbody tr th {\n",
       "        vertical-align: top;\n",
       "    }\n",
       "\n",
       "    .dataframe thead th {\n",
       "        text-align: right;\n",
       "    }\n",
       "</style>\n",
       "<table border=\"1\" class=\"dataframe\">\n",
       "  <thead>\n",
       "    <tr style=\"text-align: right;\">\n",
       "      <th></th>\n",
       "      <th></th>\n",
       "      <th>ca_mensuel</th>\n",
       "      <th>MA_3</th>\n",
       "      <th>MA_5</th>\n",
       "    </tr>\n",
       "    <tr>\n",
       "      <th>year</th>\n",
       "      <th>month</th>\n",
       "      <th></th>\n",
       "      <th></th>\n",
       "      <th></th>\n",
       "    </tr>\n",
       "  </thead>\n",
       "  <tbody>\n",
       "    <tr>\n",
       "      <th rowspan=\"10\" valign=\"top\">2021</th>\n",
       "      <th>2021-03</th>\n",
       "      <td>482530.52</td>\n",
       "      <td>NaN</td>\n",
       "      <td>NaN</td>\n",
       "    </tr>\n",
       "    <tr>\n",
       "      <th>2021-04</th>\n",
       "      <td>476249.16</td>\n",
       "      <td>NaN</td>\n",
       "      <td>NaN</td>\n",
       "    </tr>\n",
       "    <tr>\n",
       "      <th>2021-05</th>\n",
       "      <td>493023.39</td>\n",
       "      <td>483934.356667</td>\n",
       "      <td>NaN</td>\n",
       "    </tr>\n",
       "    <tr>\n",
       "      <th>2021-06</th>\n",
       "      <td>484158.49</td>\n",
       "      <td>484477.013333</td>\n",
       "      <td>NaN</td>\n",
       "    </tr>\n",
       "    <tr>\n",
       "      <th>2021-07</th>\n",
       "      <td>482875.36</td>\n",
       "      <td>486685.746667</td>\n",
       "      <td>483767.384</td>\n",
       "    </tr>\n",
       "    <tr>\n",
       "      <th>2021-08</th>\n",
       "      <td>482374.70</td>\n",
       "      <td>483136.183333</td>\n",
       "      <td>483736.220</td>\n",
       "    </tr>\n",
       "    <tr>\n",
       "      <th>2021-09</th>\n",
       "      <td>507360.56</td>\n",
       "      <td>490870.206667</td>\n",
       "      <td>489958.500</td>\n",
       "    </tr>\n",
       "    <tr>\n",
       "      <th>2021-10</th>\n",
       "      <td>320868.67</td>\n",
       "      <td>436867.976667</td>\n",
       "      <td>455527.556</td>\n",
       "    </tr>\n",
       "    <tr>\n",
       "      <th>2021-11</th>\n",
       "      <td>516267.63</td>\n",
       "      <td>448165.620000</td>\n",
       "      <td>461949.384</td>\n",
       "    </tr>\n",
       "    <tr>\n",
       "      <th>2021-12</th>\n",
       "      <td>525987.21</td>\n",
       "      <td>454374.503333</td>\n",
       "      <td>470571.754</td>\n",
       "    </tr>\n",
       "    <tr>\n",
       "      <th rowspan=\"12\" valign=\"top\">2022</th>\n",
       "      <th>2022-01</th>\n",
       "      <td>525388.94</td>\n",
       "      <td>522547.926667</td>\n",
       "      <td>479174.602</td>\n",
       "    </tr>\n",
       "    <tr>\n",
       "      <th>2022-02</th>\n",
       "      <td>535681.39</td>\n",
       "      <td>529019.180000</td>\n",
       "      <td>484838.768</td>\n",
       "    </tr>\n",
       "    <tr>\n",
       "      <th>2022-03</th>\n",
       "      <td>515566.42</td>\n",
       "      <td>525545.583333</td>\n",
       "      <td>523778.318</td>\n",
       "    </tr>\n",
       "    <tr>\n",
       "      <th>2022-04</th>\n",
       "      <td>493138.80</td>\n",
       "      <td>514795.536667</td>\n",
       "      <td>519152.552</td>\n",
       "    </tr>\n",
       "    <tr>\n",
       "      <th>2022-05</th>\n",
       "      <td>517292.44</td>\n",
       "      <td>508665.886667</td>\n",
       "      <td>517413.598</td>\n",
       "    </tr>\n",
       "    <tr>\n",
       "      <th>2022-06</th>\n",
       "      <td>496086.05</td>\n",
       "      <td>502172.430000</td>\n",
       "      <td>511553.020</td>\n",
       "    </tr>\n",
       "    <tr>\n",
       "      <th>2022-07</th>\n",
       "      <td>510903.00</td>\n",
       "      <td>508093.830000</td>\n",
       "      <td>506597.342</td>\n",
       "    </tr>\n",
       "    <tr>\n",
       "      <th>2022-08</th>\n",
       "      <td>506547.19</td>\n",
       "      <td>504512.080000</td>\n",
       "      <td>504793.496</td>\n",
       "    </tr>\n",
       "    <tr>\n",
       "      <th>2022-09</th>\n",
       "      <td>494204.44</td>\n",
       "      <td>503884.876667</td>\n",
       "      <td>505006.624</td>\n",
       "    </tr>\n",
       "    <tr>\n",
       "      <th>2022-10</th>\n",
       "      <td>508017.67</td>\n",
       "      <td>502923.100000</td>\n",
       "      <td>503151.670</td>\n",
       "    </tr>\n",
       "    <tr>\n",
       "      <th>2022-11</th>\n",
       "      <td>496774.83</td>\n",
       "      <td>499665.646667</td>\n",
       "      <td>503289.426</td>\n",
       "    </tr>\n",
       "    <tr>\n",
       "      <th>2022-12</th>\n",
       "      <td>510279.44</td>\n",
       "      <td>505023.980000</td>\n",
       "      <td>503164.714</td>\n",
       "    </tr>\n",
       "    <tr>\n",
       "      <th rowspan=\"2\" valign=\"top\">2023</th>\n",
       "      <th>2023-01</th>\n",
       "      <td>517610.48</td>\n",
       "      <td>508221.583333</td>\n",
       "      <td>505377.372</td>\n",
       "    </tr>\n",
       "    <tr>\n",
       "      <th>2023-02</th>\n",
       "      <td>456749.69</td>\n",
       "      <td>494879.870000</td>\n",
       "      <td>497886.422</td>\n",
       "    </tr>\n",
       "  </tbody>\n",
       "</table>\n",
       "</div>"
      ],
      "text/plain": [
       "              ca_mensuel           MA_3        MA_5\n",
       "year month                                         \n",
       "2021 2021-03   482530.52            NaN         NaN\n",
       "     2021-04   476249.16            NaN         NaN\n",
       "     2021-05   493023.39  483934.356667         NaN\n",
       "     2021-06   484158.49  484477.013333         NaN\n",
       "     2021-07   482875.36  486685.746667  483767.384\n",
       "     2021-08   482374.70  483136.183333  483736.220\n",
       "     2021-09   507360.56  490870.206667  489958.500\n",
       "     2021-10   320868.67  436867.976667  455527.556\n",
       "     2021-11   516267.63  448165.620000  461949.384\n",
       "     2021-12   525987.21  454374.503333  470571.754\n",
       "2022 2022-01   525388.94  522547.926667  479174.602\n",
       "     2022-02   535681.39  529019.180000  484838.768\n",
       "     2022-03   515566.42  525545.583333  523778.318\n",
       "     2022-04   493138.80  514795.536667  519152.552\n",
       "     2022-05   517292.44  508665.886667  517413.598\n",
       "     2022-06   496086.05  502172.430000  511553.020\n",
       "     2022-07   510903.00  508093.830000  506597.342\n",
       "     2022-08   506547.19  504512.080000  504793.496\n",
       "     2022-09   494204.44  503884.876667  505006.624\n",
       "     2022-10   508017.67  502923.100000  503151.670\n",
       "     2022-11   496774.83  499665.646667  503289.426\n",
       "     2022-12   510279.44  505023.980000  503164.714\n",
       "2023 2023-01   517610.48  508221.583333  505377.372\n",
       "     2023-02   456749.69  494879.870000  497886.422"
      ]
     },
     "execution_count": 377,
     "metadata": {},
     "output_type": "execute_result"
    }
   ],
   "source": [
    "df_prix = pd.DataFrame({'ca_mensuel':ca_mensuel,'MA_3': ca_mensuel.rolling(3).mean(), \n",
    "                        'MA_5': ca_mensuel.rolling(5).mean()})\n",
    "df_prix"
   ]
  },
  {
   "cell_type": "code",
   "execution_count": 378,
   "id": "f259fd1a",
   "metadata": {},
   "outputs": [
    {
     "data": {
      "text/plain": [
       "<Figure size 2000x600 with 0 Axes>"
      ]
     },
     "metadata": {},
     "output_type": "display_data"
    },
    {
     "data": {
      "image/png": "[encoded data removed]",
      "text/plain": [
       "<Figure size 640x480 with 1 Axes>"
      ]
     },
     "metadata": {},
     "output_type": "display_data"
    }
   ],
   "source": [
    "from matplotlib.pyplot import figure\n",
    "plt.figure(figsize = (20,6))\n",
    "df_prix.plot()\n",
    "plt.xlabel(\"Période\")\n",
    "plt.ylabel(\"Chiffre d'affaire (€)\")\n",
    "plt.title(\"Moyenne mobile du chiffre d'affaire\")\n",
    "plt.show()"
   ]
  },
  {
   "cell_type": "markdown",
   "id": "a0f62e62",
   "metadata": {},
   "source": [
    "Baisse significative du CA en octobre 2021"
   ]
  },
  {
   "cell_type": "code",
   "execution_count": 379,
   "id": "5b2d2b96",
   "metadata": {},
   "outputs": [
    {
     "name": "stderr",
     "output_type": "stream",
     "text": [
      "/var/folders/5w/5rjkgb0d1f3fk31jcmfx03700000gn/T/ipykernel_62978/507956255.py:3: PerformanceWarning: dropping on a non-lexsorted multi-index without a level parameter may impact performance.\n",
      "  Octobre_df = pd.pivot_table(Octobre_df, columns=[\"categ\"], index=[\"day\"]).reset_index()\n"
     ]
    },
    {
     "data": {
      "text/html": [
       "<div>\n",
       "<style scoped>\n",
       "    .dataframe tbody tr th:only-of-type {\n",
       "        vertical-align: middle;\n",
       "    }\n",
       "\n",
       "    .dataframe tbody tr th {\n",
       "        vertical-align: top;\n",
       "    }\n",
       "\n",
       "    .dataframe thead th {\n",
       "        text-align: right;\n",
       "    }\n",
       "</style>\n",
       "<table border=\"1\" class=\"dataframe\">\n",
       "  <thead>\n",
       "    <tr style=\"text-align: right;\">\n",
       "      <th></th>\n",
       "      <th>day</th>\n",
       "      <th>ca_categ_0</th>\n",
       "      <th>ca_categ_1</th>\n",
       "      <th>ca_categ_2</th>\n",
       "      <th>nombre_categ_0</th>\n",
       "      <th>nombre_categ_1</th>\n",
       "      <th>nombre_categ_2</th>\n",
       "    </tr>\n",
       "  </thead>\n",
       "  <tbody>\n",
       "    <tr>\n",
       "      <th>0</th>\n",
       "      <td>2021-10-01</td>\n",
       "      <td>663.0</td>\n",
       "      <td>344.0</td>\n",
       "      <td>38.0</td>\n",
       "      <td>6950.50</td>\n",
       "      <td>7003.79</td>\n",
       "      <td>3104.05</td>\n",
       "    </tr>\n",
       "    <tr>\n",
       "      <th>1</th>\n",
       "      <td>2021-10-02</td>\n",
       "      <td>661.0</td>\n",
       "      <td>NaN</td>\n",
       "      <td>28.0</td>\n",
       "      <td>7141.01</td>\n",
       "      <td>NaN</td>\n",
       "      <td>2041.12</td>\n",
       "    </tr>\n",
       "    <tr>\n",
       "      <th>2</th>\n",
       "      <td>2021-10-03</td>\n",
       "      <td>648.0</td>\n",
       "      <td>NaN</td>\n",
       "      <td>31.0</td>\n",
       "      <td>6786.57</td>\n",
       "      <td>NaN</td>\n",
       "      <td>2206.48</td>\n",
       "    </tr>\n",
       "    <tr>\n",
       "      <th>3</th>\n",
       "      <td>2021-10-04</td>\n",
       "      <td>603.0</td>\n",
       "      <td>NaN</td>\n",
       "      <td>38.0</td>\n",
       "      <td>6553.58</td>\n",
       "      <td>NaN</td>\n",
       "      <td>2746.08</td>\n",
       "    </tr>\n",
       "    <tr>\n",
       "      <th>4</th>\n",
       "      <td>2021-10-05</td>\n",
       "      <td>594.0</td>\n",
       "      <td>NaN</td>\n",
       "      <td>38.0</td>\n",
       "      <td>6357.91</td>\n",
       "      <td>NaN</td>\n",
       "      <td>3032.55</td>\n",
       "    </tr>\n",
       "  </tbody>\n",
       "</table>\n",
       "</div>"
      ],
      "text/plain": [
       "          day  ca_categ_0  ca_categ_1  ca_categ_2  nombre_categ_0  \\\n",
       "0  2021-10-01       663.0       344.0        38.0         6950.50   \n",
       "1  2021-10-02       661.0         NaN        28.0         7141.01   \n",
       "2  2021-10-03       648.0         NaN        31.0         6786.57   \n",
       "3  2021-10-04       603.0         NaN        38.0         6553.58   \n",
       "4  2021-10-05       594.0         NaN        38.0         6357.91   \n",
       "\n",
       "   nombre_categ_1  nombre_categ_2  \n",
       "0         7003.79         3104.05  \n",
       "1             NaN         2041.12  \n",
       "2             NaN         2206.48  \n",
       "3             NaN         2746.08  \n",
       "4             NaN         3032.55  "
      ]
     },
     "execution_count": 379,
     "metadata": {},
     "output_type": "execute_result"
    }
   ],
   "source": [
    "Octobre_df = df_complet[df_complet.month=='2021-10']\n",
    "Octobre_df = Octobre_df.groupby([\"day\",\"categ\"]).agg({\"price\":[\"sum\",\"count\"]}).reset_index()\n",
    "Octobre_df = pd.pivot_table(Octobre_df, columns=[\"categ\"], index=[\"day\"]).reset_index()\n",
    "Octobre_df.columns = [\"day\", 'ca_categ_0', 'ca_categ_1', 'ca_categ_2', 'nombre_categ_0', 'nombre_categ_1', 'nombre_categ_2']\n",
    "Octobre_df.head()"
   ]
  },
  {
   "cell_type": "markdown",
   "id": "b732c410",
   "metadata": {},
   "source": [
    "Manque de ventes de livres de catégorie 1 entre le 1er et le 28 octobre 2021"
   ]
  },
  {
   "cell_type": "code",
   "execution_count": 582,
   "id": "4ea179a9",
   "metadata": {},
   "outputs": [
    {
     "data": {
      "text/html": [
       "<div>\n",
       "<style scoped>\n",
       "    .dataframe tbody tr th:only-of-type {\n",
       "        vertical-align: middle;\n",
       "    }\n",
       "\n",
       "    .dataframe tbody tr th {\n",
       "        vertical-align: top;\n",
       "    }\n",
       "\n",
       "    .dataframe thead th {\n",
       "        text-align: right;\n",
       "    }\n",
       "</style>\n",
       "<table border=\"1\" class=\"dataframe\">\n",
       "  <thead>\n",
       "    <tr style=\"text-align: right;\">\n",
       "      <th></th>\n",
       "      <th>id_prod</th>\n",
       "      <th>date</th>\n",
       "      <th>session_id</th>\n",
       "      <th>client_id</th>\n",
       "      <th>sex</th>\n",
       "      <th>birth</th>\n",
       "      <th>age</th>\n",
       "      <th>price</th>\n",
       "      <th>categ</th>\n",
       "      <th>year</th>\n",
       "      <th>month</th>\n",
       "      <th>day</th>\n",
       "      <th>0</th>\n",
       "      <th>1</th>\n",
       "      <th>2</th>\n",
       "      <th>m</th>\n",
       "      <th>f</th>\n",
       "    </tr>\n",
       "  </thead>\n",
       "  <tbody>\n",
       "    <tr>\n",
       "      <th>480501</th>\n",
       "      <td>0_1259</td>\n",
       "      <td>2021-03-01 00:01:07.843138</td>\n",
       "      <td>s_1</td>\n",
       "      <td>c_329</td>\n",
       "      <td>f</td>\n",
       "      <td>1967</td>\n",
       "      <td>56</td>\n",
       "      <td>11.99</td>\n",
       "      <td>0.0</td>\n",
       "      <td>2021</td>\n",
       "      <td>2021-03</td>\n",
       "      <td>2021-03-01</td>\n",
       "      <td>1</td>\n",
       "      <td>0</td>\n",
       "      <td>0</td>\n",
       "      <td>1</td>\n",
       "      <td>0</td>\n",
       "    </tr>\n",
       "    <tr>\n",
       "      <th>428350</th>\n",
       "      <td>0_1390</td>\n",
       "      <td>2021-03-01 00:02:26.047414</td>\n",
       "      <td>s_2</td>\n",
       "      <td>c_664</td>\n",
       "      <td>m</td>\n",
       "      <td>1960</td>\n",
       "      <td>63</td>\n",
       "      <td>19.37</td>\n",
       "      <td>0.0</td>\n",
       "      <td>2021</td>\n",
       "      <td>2021-03</td>\n",
       "      <td>2021-03-01</td>\n",
       "      <td>1</td>\n",
       "      <td>0</td>\n",
       "      <td>0</td>\n",
       "      <td>0</td>\n",
       "      <td>1</td>\n",
       "    </tr>\n",
       "    <tr>\n",
       "      <th>462563</th>\n",
       "      <td>0_1352</td>\n",
       "      <td>2021-03-01 00:02:38.311413</td>\n",
       "      <td>s_3</td>\n",
       "      <td>c_580</td>\n",
       "      <td>m</td>\n",
       "      <td>1988</td>\n",
       "      <td>35</td>\n",
       "      <td>4.50</td>\n",
       "      <td>0.0</td>\n",
       "      <td>2021</td>\n",
       "      <td>2021-03</td>\n",
       "      <td>2021-03-01</td>\n",
       "      <td>1</td>\n",
       "      <td>0</td>\n",
       "      <td>0</td>\n",
       "      <td>0</td>\n",
       "      <td>1</td>\n",
       "    </tr>\n",
       "    <tr>\n",
       "      <th>488153</th>\n",
       "      <td>0_1458</td>\n",
       "      <td>2021-03-01 00:04:54.559692</td>\n",
       "      <td>s_4</td>\n",
       "      <td>c_7912</td>\n",
       "      <td>f</td>\n",
       "      <td>1989</td>\n",
       "      <td>34</td>\n",
       "      <td>6.55</td>\n",
       "      <td>0.0</td>\n",
       "      <td>2021</td>\n",
       "      <td>2021-03</td>\n",
       "      <td>2021-03-01</td>\n",
       "      <td>1</td>\n",
       "      <td>0</td>\n",
       "      <td>0</td>\n",
       "      <td>1</td>\n",
       "      <td>0</td>\n",
       "    </tr>\n",
       "    <tr>\n",
       "      <th>438944</th>\n",
       "      <td>0_1358</td>\n",
       "      <td>2021-03-01 00:05:18.801198</td>\n",
       "      <td>s_5</td>\n",
       "      <td>c_2033</td>\n",
       "      <td>f</td>\n",
       "      <td>1956</td>\n",
       "      <td>67</td>\n",
       "      <td>16.49</td>\n",
       "      <td>0.0</td>\n",
       "      <td>2021</td>\n",
       "      <td>2021-03</td>\n",
       "      <td>2021-03-01</td>\n",
       "      <td>1</td>\n",
       "      <td>0</td>\n",
       "      <td>0</td>\n",
       "      <td>1</td>\n",
       "      <td>0</td>\n",
       "    </tr>\n",
       "    <tr>\n",
       "      <th>...</th>\n",
       "      <td>...</td>\n",
       "      <td>...</td>\n",
       "      <td>...</td>\n",
       "      <td>...</td>\n",
       "      <td>...</td>\n",
       "      <td>...</td>\n",
       "      <td>...</td>\n",
       "      <td>...</td>\n",
       "      <td>...</td>\n",
       "      <td>...</td>\n",
       "      <td>...</td>\n",
       "      <td>...</td>\n",
       "      <td>...</td>\n",
       "      <td>...</td>\n",
       "      <td>...</td>\n",
       "      <td>...</td>\n",
       "      <td>...</td>\n",
       "    </tr>\n",
       "    <tr>\n",
       "      <th>114311</th>\n",
       "      <td>0_1000</td>\n",
       "      <td>2021-03-01 02:24:57.000491</td>\n",
       "      <td>s_57</td>\n",
       "      <td>c_7299</td>\n",
       "      <td>m</td>\n",
       "      <td>1983</td>\n",
       "      <td>40</td>\n",
       "      <td>6.84</td>\n",
       "      <td>0.0</td>\n",
       "      <td>2021</td>\n",
       "      <td>2021-03</td>\n",
       "      <td>2021-03-01</td>\n",
       "      <td>1</td>\n",
       "      <td>0</td>\n",
       "      <td>0</td>\n",
       "      <td>0</td>\n",
       "      <td>1</td>\n",
       "    </tr>\n",
       "    <tr>\n",
       "      <th>116684</th>\n",
       "      <td>1_260</td>\n",
       "      <td>2021-03-01 02:26:48.641066</td>\n",
       "      <td>s_58</td>\n",
       "      <td>c_2940</td>\n",
       "      <td>f</td>\n",
       "      <td>1982</td>\n",
       "      <td>41</td>\n",
       "      <td>17.63</td>\n",
       "      <td>1.0</td>\n",
       "      <td>2021</td>\n",
       "      <td>2021-03</td>\n",
       "      <td>2021-03-01</td>\n",
       "      <td>0</td>\n",
       "      <td>1</td>\n",
       "      <td>0</td>\n",
       "      <td>1</td>\n",
       "      <td>0</td>\n",
       "    </tr>\n",
       "    <tr>\n",
       "      <th>671534</th>\n",
       "      <td>0_2291</td>\n",
       "      <td>2021-03-01 02:27:16.265514</td>\n",
       "      <td>s_59</td>\n",
       "      <td>c_6917</td>\n",
       "      <td>f</td>\n",
       "      <td>1984</td>\n",
       "      <td>39</td>\n",
       "      <td>12.99</td>\n",
       "      <td>0.0</td>\n",
       "      <td>2021</td>\n",
       "      <td>2021-03</td>\n",
       "      <td>2021-03-01</td>\n",
       "      <td>1</td>\n",
       "      <td>0</td>\n",
       "      <td>0</td>\n",
       "      <td>1</td>\n",
       "      <td>0</td>\n",
       "    </tr>\n",
       "    <tr>\n",
       "      <th>640851</th>\n",
       "      <td>1_39</td>\n",
       "      <td>2021-03-01 02:40:29.041503</td>\n",
       "      <td>s_39</td>\n",
       "      <td>c_184</td>\n",
       "      <td>m</td>\n",
       "      <td>2004</td>\n",
       "      <td>19</td>\n",
       "      <td>12.99</td>\n",
       "      <td>1.0</td>\n",
       "      <td>2021</td>\n",
       "      <td>2021-03</td>\n",
       "      <td>2021-03-01</td>\n",
       "      <td>0</td>\n",
       "      <td>1</td>\n",
       "      <td>0</td>\n",
       "      <td>0</td>\n",
       "      <td>1</td>\n",
       "    </tr>\n",
       "    <tr>\n",
       "      <th>113824</th>\n",
       "      <td>1_353</td>\n",
       "      <td>2021-03-01 02:40:38.588339</td>\n",
       "      <td>s_60</td>\n",
       "      <td>c_1969</td>\n",
       "      <td>f</td>\n",
       "      <td>1992</td>\n",
       "      <td>31</td>\n",
       "      <td>26.99</td>\n",
       "      <td>1.0</td>\n",
       "      <td>2021</td>\n",
       "      <td>2021-03</td>\n",
       "      <td>2021-03-01</td>\n",
       "      <td>0</td>\n",
       "      <td>1</td>\n",
       "      <td>0</td>\n",
       "      <td>1</td>\n",
       "      <td>0</td>\n",
       "    </tr>\n",
       "  </tbody>\n",
       "</table>\n",
       "<p>100 rows × 17 columns</p>\n",
       "</div>"
      ],
      "text/plain": [
       "       id_prod                       date session_id client_id sex  birth  \\\n",
       "480501  0_1259 2021-03-01 00:01:07.843138        s_1     c_329   f   1967   \n",
       "428350  0_1390 2021-03-01 00:02:26.047414        s_2     c_664   m   1960   \n",
       "462563  0_1352 2021-03-01 00:02:38.311413        s_3     c_580   m   1988   \n",
       "488153  0_1458 2021-03-01 00:04:54.559692        s_4    c_7912   f   1989   \n",
       "438944  0_1358 2021-03-01 00:05:18.801198        s_5    c_2033   f   1956   \n",
       "...        ...                        ...        ...       ...  ..    ...   \n",
       "114311  0_1000 2021-03-01 02:24:57.000491       s_57    c_7299   m   1983   \n",
       "116684   1_260 2021-03-01 02:26:48.641066       s_58    c_2940   f   1982   \n",
       "671534  0_2291 2021-03-01 02:27:16.265514       s_59    c_6917   f   1984   \n",
       "640851    1_39 2021-03-01 02:40:29.041503       s_39     c_184   m   2004   \n",
       "113824   1_353 2021-03-01 02:40:38.588339       s_60    c_1969   f   1992   \n",
       "\n",
       "        age  price  categ  year    month         day  0  1  2  m  f  \n",
       "480501   56  11.99    0.0  2021  2021-03  2021-03-01  1  0  0  1  0  \n",
       "428350   63  19.37    0.0  2021  2021-03  2021-03-01  1  0  0  0  1  \n",
       "462563   35   4.50    0.0  2021  2021-03  2021-03-01  1  0  0  0  1  \n",
       "488153   34   6.55    0.0  2021  2021-03  2021-03-01  1  0  0  1  0  \n",
       "438944   67  16.49    0.0  2021  2021-03  2021-03-01  1  0  0  1  0  \n",
       "...     ...    ...    ...   ...      ...         ... .. .. .. .. ..  \n",
       "114311   40   6.84    0.0  2021  2021-03  2021-03-01  1  0  0  0  1  \n",
       "116684   41  17.63    1.0  2021  2021-03  2021-03-01  0  1  0  1  0  \n",
       "671534   39  12.99    0.0  2021  2021-03  2021-03-01  1  0  0  1  0  \n",
       "640851   19  12.99    1.0  2021  2021-03  2021-03-01  0  1  0  0  1  \n",
       "113824   31  26.99    1.0  2021  2021-03  2021-03-01  0  1  0  1  0  \n",
       "\n",
       "[100 rows x 17 columns]"
      ]
     },
     "execution_count": 582,
     "metadata": {},
     "output_type": "execute_result"
    }
   ],
   "source": [
    "df_complet.drop(df_complet[df_complet.month=='2022-10'].index,inplace=True)\n",
    "df_complet.head(100)"
   ]
  },
  {
   "cell_type": "markdown",
   "id": "0a987c37",
   "metadata": {},
   "source": [
    "## Zoom sur les références:"
   ]
  },
  {
   "cell_type": "markdown",
   "id": "ae73906a",
   "metadata": {},
   "source": [
    "**CA par produit:**"
   ]
  },
  {
   "cell_type": "code",
   "execution_count": 381,
   "id": "45d84f1e",
   "metadata": {},
   "outputs": [
    {
     "data": {
      "text/plain": [
       "id_prod\n",
       "0_0        4657.50\n",
       "0_1        5352.13\n",
       "0_10        394.90\n",
       "0_100        61.80\n",
       "0_1000     2954.88\n",
       "            ...   \n",
       "2_95        395.96\n",
       "2_96      28650.18\n",
       "2_97       2092.87\n",
       "2_98        149.74\n",
       "2_99        594.93\n",
       "Name: price, Length: 3266, dtype: float64"
      ]
     },
     "execution_count": 381,
     "metadata": {},
     "output_type": "execute_result"
    }
   ],
   "source": [
    "CA_produit = df_complet.groupby([\"id_prod\"])[\"price\"].sum()\n",
    "CA_produit"
   ]
  },
  {
   "cell_type": "markdown",
   "id": "ea3e0cab",
   "metadata": {},
   "source": [
    "### LES TOPS - Les produits que génèrent le plus de CA:"
   ]
  },
  {
   "cell_type": "code",
   "execution_count": 382,
   "id": "49083bd8",
   "metadata": {},
   "outputs": [
    {
     "data": {
      "text/plain": [
       "id_prod\n",
       "2_159    94893.50\n",
       "2_135    69334.95\n",
       "2_112    65407.76\n",
       "2_102    60736.78\n",
       "2_209    56971.86\n",
       "1_395    54356.25\n",
       "1_369    54025.48\n",
       "2_110    53846.25\n",
       "2_39     53060.85\n",
       "2_166    52449.12\n",
       "Name: price, dtype: float64"
      ]
     },
     "execution_count": 382,
     "metadata": {},
     "output_type": "execute_result"
    }
   ],
   "source": [
    "CA_produit.nlargest(10)"
   ]
  },
  {
   "cell_type": "markdown",
   "id": "6da499ea",
   "metadata": {},
   "source": [
    "Les livres qui génèrent le plus de CA sont ceux de la categ 2"
   ]
  },
  {
   "cell_type": "markdown",
   "id": "f77f57a8",
   "metadata": {},
   "source": [
    "### LES FLOPS - Les produits que génèrent le moins de CA:"
   ]
  },
  {
   "cell_type": "code",
   "execution_count": 383,
   "id": "d10f1558",
   "metadata": {},
   "outputs": [
    {
     "data": {
      "text/plain": [
       "id_prod\n",
       "0_1539    0.99\n",
       "0_1284    1.38\n",
       "0_1653    1.98\n",
       "0_1601    1.99\n",
       "0_541     1.99\n",
       "0_807     1.99\n",
       "0_1728    2.27\n",
       "0_1498    2.48\n",
       "0_898     2.54\n",
       "0_1840    2.56\n",
       "Name: price, dtype: float64"
      ]
     },
     "execution_count": 383,
     "metadata": {},
     "output_type": "execute_result"
    }
   ],
   "source": [
    "CA_produit.nsmallest(10)"
   ]
  },
  {
   "cell_type": "markdown",
   "id": "dbbcb561",
   "metadata": {},
   "source": [
    "Les livres qui génèrent le moins de CA sont ceux de la categ 0"
   ]
  },
  {
   "cell_type": "code",
   "execution_count": 384,
   "id": "3bfb9b86",
   "metadata": {},
   "outputs": [
    {
     "data": {
      "text/plain": [
       "id_prod\n",
       "0_0       1242\n",
       "0_1        487\n",
       "0_10        22\n",
       "0_100        3\n",
       "0_1000     432\n",
       "          ... \n",
       "2_95         4\n",
       "2_96       598\n",
       "2_97        13\n",
       "2_98         1\n",
       "2_99         7\n",
       "Name: session_id, Length: 3266, dtype: int64"
      ]
     },
     "execution_count": 384,
     "metadata": {},
     "output_type": "execute_result"
    }
   ],
   "source": [
    "nombre_ventes = df_complet.groupby([\"id_prod\"])[\"session_id\"].count()\n",
    "nombre_ventes "
   ]
  },
  {
   "cell_type": "code",
   "execution_count": 385,
   "id": "30d8376a",
   "metadata": {},
   "outputs": [
    {
     "data": {
      "text/plain": [
       "id_prod\n",
       "1_369    2252\n",
       "1_417    2189\n",
       "1_414    2180\n",
       "1_498    2128\n",
       "1_425    2096\n",
       "1_403    1960\n",
       "1_412    1951\n",
       "1_413    1945\n",
       "1_406    1939\n",
       "1_407    1935\n",
       "Name: session_id, dtype: int64"
      ]
     },
     "execution_count": 385,
     "metadata": {},
     "output_type": "execute_result"
    }
   ],
   "source": [
    "nombre_ventes.nlargest(10)"
   ]
  },
  {
   "cell_type": "markdown",
   "id": "2b566701",
   "metadata": {},
   "source": [
    "Les 10 livres les plus vendus appartiennent à la categ 1"
   ]
  },
  {
   "cell_type": "code",
   "execution_count": 386,
   "id": "025dd0ce",
   "metadata": {},
   "outputs": [
    {
     "data": {
      "text/plain": [
       "id_prod\n",
       "0_1151    1\n",
       "0_1284    1\n",
       "0_1379    1\n",
       "0_1498    1\n",
       "0_1539    1\n",
       "0_1601    1\n",
       "0_1633    1\n",
       "0_1683    1\n",
       "0_1728    1\n",
       "0_2201    1\n",
       "Name: session_id, dtype: int64"
      ]
     },
     "execution_count": 386,
     "metadata": {},
     "output_type": "execute_result"
    }
   ],
   "source": [
    "nombre_ventes.nsmallest(10)"
   ]
  },
  {
   "cell_type": "markdown",
   "id": "b4c8f3be",
   "metadata": {},
   "source": [
    "Les livres les moins vendus sont ceux de la categ 0"
   ]
  },
  {
   "cell_type": "markdown",
   "id": "e6eaa85b",
   "metadata": {},
   "source": [
    "**Prix moyen d'un livre selon sa catégorie:**"
   ]
  },
  {
   "cell_type": "code",
   "execution_count": 387,
   "id": "fb331459",
   "metadata": {},
   "outputs": [
    {
     "data": {
      "text/plain": [
       "categ\n",
       "0.0    10.637843\n",
       "1.0    20.485730\n",
       "2.0    76.207412\n",
       "Name: price, dtype: float64"
      ]
     },
     "execution_count": 387,
     "metadata": {},
     "output_type": "execute_result"
    }
   ],
   "source": [
    "prix_categ = df_complet.groupby([\"categ\"])[\"price\"].mean()\n",
    "prix_categ"
   ]
  },
  {
   "cell_type": "markdown",
   "id": "bd79cd8e",
   "metadata": {},
   "source": [
    "**Réprésentation graphique du Chiffre d'affaire par catégorie:**"
   ]
  },
  {
   "cell_type": "code",
   "execution_count": 388,
   "id": "21b27a54",
   "metadata": {},
   "outputs": [
    {
     "data": {
      "image/png": "[encoded data removed]",
      "text/plain": [
       "<Figure size 640x480 with 1 Axes>"
      ]
     },
     "metadata": {},
     "output_type": "display_data"
    }
   ],
   "source": [
    "CA_produit_0 = df_complet[df_complet.categ==0].groupby([\"id_prod\"])[\"price\"].sum()\n",
    "CA_produit_1 = df_complet[df_complet.categ==1].groupby([\"id_prod\"])[\"price\"].sum()\n",
    "CA_produit_2 = df_complet[df_complet.categ==2].groupby([\"id_prod\"])[\"price\"].sum()\n",
    "\n",
    "plt.boxplot([\n",
    "    CA_produit_0,\n",
    "    CA_produit_1,\n",
    "    CA_produit_2]\n",
    "    ,labels=[\"Catégorie 0\", \"Catégorie 1\", \"Catégorie 2\"],showmeans=True, showfliers=False)\n",
    "plt.ylabel(\"Montant en euros\")\n",
    "plt.title(\"Chiffre d'affaire par catégorie\")\n",
    "plt.show()"
   ]
  },
  {
   "cell_type": "markdown",
   "id": "1a31fdc9",
   "metadata": {},
   "source": [
    "crosstab: voir s'il a une relation H F et voir si a une relation avec les categorie des produits"
   ]
  },
  {
   "cell_type": "code",
   "execution_count": 467,
   "id": "f7ae37f8",
   "metadata": {},
   "outputs": [
    {
     "data": {
      "image/png": "[encoded data removed]",
      "text/plain": [
       "<Figure size 640x480 with 1 Axes>"
      ]
     },
     "metadata": {},
     "output_type": "display_data"
    }
   ],
   "source": [
    "ca_categ = df_complet.groupby(df_complet[\"categ\"])[\"price\"].sum()\n",
    "fig1, ax1 = plt.subplots()\n",
    "ax1.pie(ca_categ,\n",
    "        labels=[\"categ 0\",\"categ 1\",\"categ 2\"],\n",
    "        autopct=\"%1.1f%%\",\n",
    "        shadow=True)\n",
    "ax1.axis(\"equal\")\n",
    "plt.title(\"Répartition du chiffre d'affaire total par catégories\")\n",
    "plt.show()"
   ]
  },
  {
   "cell_type": "markdown",
   "id": "5330a1f8",
   "metadata": {},
   "source": [
    "Différences de prix, en particulier pour les livres de la catégorie 2. Les meilleures ventes sont de la catégorie 1 "
   ]
  },
  {
   "cell_type": "markdown",
   "id": "31ff8cc4",
   "metadata": {},
   "source": [
    "**Courbe de Lorentz: Repartition para nombre de ventes et par Chiffre d'affaire:**"
   ]
  },
  {
   "cell_type": "code",
   "execution_count": 390,
   "id": "bb40b31f",
   "metadata": {},
   "outputs": [
    {
     "name": "stdout",
     "output_type": "stream",
     "text": [
      "indice de Gini: 0.694\n"
     ]
    },
    {
     "data": {
      "image/png": "[encoded data removed]",
      "text/plain": [
       "<Figure size 640x480 with 1 Axes>"
      ]
     },
     "metadata": {},
     "output_type": "display_data"
    }
   ],
   "source": [
    "nb_prod_lorenz = np.cumsum(np.sort(nombre_ventes)) / nombre_ventes.sum()\n",
    "nb_prod_lorenz = np.append([0], nb_prod_lorenz)\n",
    "plt.plot(np.linspace(0,1,len(nb_prod_lorenz)), nb_prod_lorenz, drawstyle='steps-post'),\n",
    "plt.plot(np.linspace(0,1,len(nb_prod_lorenz)+1), np.linspace(0,1,len(nb_prod_lorenz)+1),color =\"black\", dashes=[3,5])\n",
    "plt.ylabel(\"Nombre de vente cumulé\")\n",
    "plt.xlabel(\"Produits cumulés\")\n",
    "plt.title(\"Répartition du NOMBRE DE VENTES entre les produits\")\n",
    "courbe_nb_prod = nb_prod_lorenz[:-1].sum() / len(nb_prod_lorenz)\n",
    "S_nb_prod = 0.5 - courbe_nb_prod\n",
    "nb_prod_gini = 2* S_nb_prod\n",
    "print(\"indice de Gini:\",round(nb_prod_gini,3))\n"
   ]
  },
  {
   "cell_type": "code",
   "execution_count": 391,
   "id": "0245e3bb",
   "metadata": {},
   "outputs": [
    {
     "name": "stdout",
     "output_type": "stream",
     "text": [
      "indice de Gini: 0.743\n"
     ]
    },
    {
     "data": {
      "image/png": "[encoded data removed]",
      "text/plain": [
       "<Figure size 640x480 with 1 Axes>"
      ]
     },
     "metadata": {},
     "output_type": "display_data"
    }
   ],
   "source": [
    "ca_prod_lorenz = np.cumsum(np.sort(CA_produit)) / CA_produit.sum()\n",
    "ca_prod_lorenz = np.append([0], ca_prod_lorenz)\n",
    "plt.plot(np.linspace(0,1,len(ca_prod_lorenz)), ca_prod_lorenz, drawstyle='steps-post'),\n",
    "plt.plot(np.linspace(0,1,len(ca_prod_lorenz)+1), np.linspace(0,1,len(ca_prod_lorenz)+1),color =\"black\", dashes=[3,5])\n",
    "plt.ylabel(\"Chiffre d'affaire cumulé\")\n",
    "plt.xlabel(\"Produits cumulés\")\n",
    "plt.title(\"Répartition du CHIFFRE D'AFFAIRE entre les produits\")\n",
    "courbe_ca_prod = ca_prod_lorenz[:-1].sum() / len(ca_prod_lorenz)\n",
    "S_ca_prod = 0.5 - courbe_ca_prod\n",
    "ca_prod_gini = 2* S_ca_prod\n",
    "print(\"indice de Gini:\",round(ca_prod_gini,3))\n"
   ]
  },
  {
   "cell_type": "markdown",
   "id": "97ffe2ca",
   "metadata": {},
   "source": [
    "L'indice de Gini s'éloigne de 0 (réprésent 60% de la surface de Gini). La répartition du chiffre d'affaires par produit est très inégale."
   ]
  },
  {
   "cell_type": "markdown",
   "id": "5dad6ba4",
   "metadata": {},
   "source": [
    "**Nombre moyen d'achats par sessions:**"
   ]
  },
  {
   "cell_type": "code",
   "execution_count": 468,
   "id": "dc733ad8",
   "metadata": {},
   "outputs": [
    {
     "name": "stdout",
     "output_type": "stream",
     "text": [
      "Il y a eu 342315 sessions\n",
      "Une session aboutie en moyenne à 1.98 achats\n"
     ]
    }
   ],
   "source": [
    "print(\"Il y a eu\",\n",
    "      df_complet[\"session_id\"].nunique(),\n",
    "      \"sessions\")\n",
    "\n",
    "print(\"Une session aboutie en moyenne à\",\n",
    "      round(df_complet.groupby([\"session_id\",\"client_id\"])[\"id_prod\"].count().mean(),2),\n",
    "      \"achats\")"
   ]
  },
  {
   "cell_type": "markdown",
   "id": "b6a4c507",
   "metadata": {},
   "source": [
    "### Analyse sur le profil des clients: "
   ]
  },
  {
   "cell_type": "markdown",
   "id": "5062bb1c",
   "metadata": {},
   "source": [
    "**Clients ayant le plus dépensé:**"
   ]
  },
  {
   "cell_type": "code",
   "execution_count": 521,
   "id": "cfe8c737",
   "metadata": {},
   "outputs": [
    {
     "data": {
      "text/plain": [
       "0.0743189247200816"
      ]
     },
     "execution_count": 521,
     "metadata": {},
     "output_type": "execute_result"
    }
   ],
   "source": [
    "prix_par_client = df_complet.groupby([\"client_id\"])[\"price\"].sum()\n",
    "prix_par_client.nlargest(10).iloc[:4].sum()/prix_par_client.sum()"
   ]
  },
  {
   "cell_type": "code",
   "execution_count": null,
   "id": "6a9d3af6",
   "metadata": {},
   "outputs": [],
   "source": []
  },
  {
   "cell_type": "markdown",
   "id": "ac8edf8e",
   "metadata": {},
   "source": [
    "**4 clients ont l'habitude d'acheter en quantité. Zoom sur le profil de celui qui achète le plus (c_1609):**"
   ]
  },
  {
   "cell_type": "code",
   "execution_count": 393,
   "id": "c9ea717e",
   "metadata": {},
   "outputs": [
    {
     "data": {
      "text/html": [
       "<div>\n",
       "<style scoped>\n",
       "    .dataframe tbody tr th:only-of-type {\n",
       "        vertical-align: middle;\n",
       "    }\n",
       "\n",
       "    .dataframe tbody tr th {\n",
       "        vertical-align: top;\n",
       "    }\n",
       "\n",
       "    .dataframe thead th {\n",
       "        text-align: right;\n",
       "    }\n",
       "</style>\n",
       "<table border=\"1\" class=\"dataframe\">\n",
       "  <thead>\n",
       "    <tr style=\"text-align: right;\">\n",
       "      <th></th>\n",
       "      <th>id_prod</th>\n",
       "      <th>date</th>\n",
       "      <th>session_id</th>\n",
       "      <th>client_id</th>\n",
       "      <th>sex</th>\n",
       "      <th>birth</th>\n",
       "      <th>age</th>\n",
       "      <th>price</th>\n",
       "      <th>categ</th>\n",
       "      <th>year</th>\n",
       "      <th>month</th>\n",
       "      <th>day</th>\n",
       "      <th>0</th>\n",
       "      <th>1</th>\n",
       "      <th>2</th>\n",
       "      <th>m</th>\n",
       "      <th>f</th>\n",
       "    </tr>\n",
       "  </thead>\n",
       "  <tbody>\n",
       "    <tr>\n",
       "      <th>524419</th>\n",
       "      <td>0_1304</td>\n",
       "      <td>2021-03-01 00:07:04.371179</td>\n",
       "      <td>s_7</td>\n",
       "      <td>c_1609</td>\n",
       "      <td>m</td>\n",
       "      <td>1980</td>\n",
       "      <td>43</td>\n",
       "      <td>5.86</td>\n",
       "      <td>0.0</td>\n",
       "      <td>2021</td>\n",
       "      <td>2021-03</td>\n",
       "      <td>2021-03-01</td>\n",
       "      <td>1</td>\n",
       "      <td>0</td>\n",
       "      <td>0</td>\n",
       "      <td>0</td>\n",
       "      <td>1</td>\n",
       "    </tr>\n",
       "    <tr>\n",
       "      <th>256662</th>\n",
       "      <td>0_1159</td>\n",
       "      <td>2021-03-01 00:11:57.832228</td>\n",
       "      <td>s_7</td>\n",
       "      <td>c_1609</td>\n",
       "      <td>m</td>\n",
       "      <td>1980</td>\n",
       "      <td>43</td>\n",
       "      <td>7.99</td>\n",
       "      <td>0.0</td>\n",
       "      <td>2021</td>\n",
       "      <td>2021-03</td>\n",
       "      <td>2021-03-01</td>\n",
       "      <td>1</td>\n",
       "      <td>0</td>\n",
       "      <td>0</td>\n",
       "      <td>0</td>\n",
       "      <td>1</td>\n",
       "    </tr>\n",
       "    <tr>\n",
       "      <th>583300</th>\n",
       "      <td>0_1425</td>\n",
       "      <td>2021-03-01 01:56:41.944044</td>\n",
       "      <td>s_46</td>\n",
       "      <td>c_1609</td>\n",
       "      <td>m</td>\n",
       "      <td>1980</td>\n",
       "      <td>43</td>\n",
       "      <td>12.99</td>\n",
       "      <td>0.0</td>\n",
       "      <td>2021</td>\n",
       "      <td>2021-03</td>\n",
       "      <td>2021-03-01</td>\n",
       "      <td>1</td>\n",
       "      <td>0</td>\n",
       "      <td>0</td>\n",
       "      <td>0</td>\n",
       "      <td>1</td>\n",
       "    </tr>\n",
       "    <tr>\n",
       "      <th>423720</th>\n",
       "      <td>0_1469</td>\n",
       "      <td>2021-03-01 02:12:21.294004</td>\n",
       "      <td>s_53</td>\n",
       "      <td>c_1609</td>\n",
       "      <td>m</td>\n",
       "      <td>1980</td>\n",
       "      <td>43</td>\n",
       "      <td>14.99</td>\n",
       "      <td>0.0</td>\n",
       "      <td>2021</td>\n",
       "      <td>2021-03</td>\n",
       "      <td>2021-03-01</td>\n",
       "      <td>1</td>\n",
       "      <td>0</td>\n",
       "      <td>0</td>\n",
       "      <td>0</td>\n",
       "      <td>1</td>\n",
       "    </tr>\n",
       "    <tr>\n",
       "      <th>209933</th>\n",
       "      <td>1_406</td>\n",
       "      <td>2021-03-01 02:41:13.649521</td>\n",
       "      <td>s_63</td>\n",
       "      <td>c_1609</td>\n",
       "      <td>m</td>\n",
       "      <td>1980</td>\n",
       "      <td>43</td>\n",
       "      <td>24.81</td>\n",
       "      <td>1.0</td>\n",
       "      <td>2021</td>\n",
       "      <td>2021-03</td>\n",
       "      <td>2021-03-01</td>\n",
       "      <td>0</td>\n",
       "      <td>1</td>\n",
       "      <td>0</td>\n",
       "      <td>0</td>\n",
       "      <td>1</td>\n",
       "    </tr>\n",
       "    <tr>\n",
       "      <th>...</th>\n",
       "      <td>...</td>\n",
       "      <td>...</td>\n",
       "      <td>...</td>\n",
       "      <td>...</td>\n",
       "      <td>...</td>\n",
       "      <td>...</td>\n",
       "      <td>...</td>\n",
       "      <td>...</td>\n",
       "      <td>...</td>\n",
       "      <td>...</td>\n",
       "      <td>...</td>\n",
       "      <td>...</td>\n",
       "      <td>...</td>\n",
       "      <td>...</td>\n",
       "      <td>...</td>\n",
       "      <td>...</td>\n",
       "      <td>...</td>\n",
       "    </tr>\n",
       "    <tr>\n",
       "      <th>423961</th>\n",
       "      <td>1_735</td>\n",
       "      <td>2023-02-28 21:42:40.632842</td>\n",
       "      <td>s_348401</td>\n",
       "      <td>c_1609</td>\n",
       "      <td>m</td>\n",
       "      <td>1980</td>\n",
       "      <td>43</td>\n",
       "      <td>22.99</td>\n",
       "      <td>1.0</td>\n",
       "      <td>2023</td>\n",
       "      <td>2023-02</td>\n",
       "      <td>2023-02-28</td>\n",
       "      <td>0</td>\n",
       "      <td>1</td>\n",
       "      <td>0</td>\n",
       "      <td>0</td>\n",
       "      <td>1</td>\n",
       "    </tr>\n",
       "    <tr>\n",
       "      <th>148018</th>\n",
       "      <td>0_1594</td>\n",
       "      <td>2023-02-28 22:04:16.664518</td>\n",
       "      <td>s_348409</td>\n",
       "      <td>c_1609</td>\n",
       "      <td>m</td>\n",
       "      <td>1980</td>\n",
       "      <td>43</td>\n",
       "      <td>3.33</td>\n",
       "      <td>0.0</td>\n",
       "      <td>2023</td>\n",
       "      <td>2023-02</td>\n",
       "      <td>2023-02-28</td>\n",
       "      <td>1</td>\n",
       "      <td>0</td>\n",
       "      <td>0</td>\n",
       "      <td>0</td>\n",
       "      <td>1</td>\n",
       "    </tr>\n",
       "    <tr>\n",
       "      <th>584776</th>\n",
       "      <td>0_1940</td>\n",
       "      <td>2023-02-28 22:09:50.559145</td>\n",
       "      <td>s_348409</td>\n",
       "      <td>c_1609</td>\n",
       "      <td>m</td>\n",
       "      <td>1980</td>\n",
       "      <td>43</td>\n",
       "      <td>18.31</td>\n",
       "      <td>0.0</td>\n",
       "      <td>2023</td>\n",
       "      <td>2023-02</td>\n",
       "      <td>2023-02-28</td>\n",
       "      <td>1</td>\n",
       "      <td>0</td>\n",
       "      <td>0</td>\n",
       "      <td>0</td>\n",
       "      <td>1</td>\n",
       "    </tr>\n",
       "    <tr>\n",
       "      <th>444817</th>\n",
       "      <td>0_1002</td>\n",
       "      <td>2023-02-28 22:27:00.464046</td>\n",
       "      <td>s_348409</td>\n",
       "      <td>c_1609</td>\n",
       "      <td>m</td>\n",
       "      <td>1980</td>\n",
       "      <td>43</td>\n",
       "      <td>8.31</td>\n",
       "      <td>0.0</td>\n",
       "      <td>2023</td>\n",
       "      <td>2023-02</td>\n",
       "      <td>2023-02-28</td>\n",
       "      <td>1</td>\n",
       "      <td>0</td>\n",
       "      <td>0</td>\n",
       "      <td>0</td>\n",
       "      <td>1</td>\n",
       "    </tr>\n",
       "    <tr>\n",
       "      <th>131338</th>\n",
       "      <td>1_448</td>\n",
       "      <td>2023-02-28 22:29:54.677919</td>\n",
       "      <td>s_348419</td>\n",
       "      <td>c_1609</td>\n",
       "      <td>m</td>\n",
       "      <td>1980</td>\n",
       "      <td>43</td>\n",
       "      <td>13.79</td>\n",
       "      <td>1.0</td>\n",
       "      <td>2023</td>\n",
       "      <td>2023-02</td>\n",
       "      <td>2023-02-28</td>\n",
       "      <td>0</td>\n",
       "      <td>1</td>\n",
       "      <td>0</td>\n",
       "      <td>0</td>\n",
       "      <td>1</td>\n",
       "    </tr>\n",
       "  </tbody>\n",
       "</table>\n",
       "<p>25488 rows × 17 columns</p>\n",
       "</div>"
      ],
      "text/plain": [
       "       id_prod                       date session_id client_id sex  birth  \\\n",
       "524419  0_1304 2021-03-01 00:07:04.371179        s_7    c_1609   m   1980   \n",
       "256662  0_1159 2021-03-01 00:11:57.832228        s_7    c_1609   m   1980   \n",
       "583300  0_1425 2021-03-01 01:56:41.944044       s_46    c_1609   m   1980   \n",
       "423720  0_1469 2021-03-01 02:12:21.294004       s_53    c_1609   m   1980   \n",
       "209933   1_406 2021-03-01 02:41:13.649521       s_63    c_1609   m   1980   \n",
       "...        ...                        ...        ...       ...  ..    ...   \n",
       "423961   1_735 2023-02-28 21:42:40.632842   s_348401    c_1609   m   1980   \n",
       "148018  0_1594 2023-02-28 22:04:16.664518   s_348409    c_1609   m   1980   \n",
       "584776  0_1940 2023-02-28 22:09:50.559145   s_348409    c_1609   m   1980   \n",
       "444817  0_1002 2023-02-28 22:27:00.464046   s_348409    c_1609   m   1980   \n",
       "131338   1_448 2023-02-28 22:29:54.677919   s_348419    c_1609   m   1980   \n",
       "\n",
       "        age  price  categ  year    month         day  0  1  2  m  f  \n",
       "524419   43   5.86    0.0  2021  2021-03  2021-03-01  1  0  0  0  1  \n",
       "256662   43   7.99    0.0  2021  2021-03  2021-03-01  1  0  0  0  1  \n",
       "583300   43  12.99    0.0  2021  2021-03  2021-03-01  1  0  0  0  1  \n",
       "423720   43  14.99    0.0  2021  2021-03  2021-03-01  1  0  0  0  1  \n",
       "209933   43  24.81    1.0  2021  2021-03  2021-03-01  0  1  0  0  1  \n",
       "...     ...    ...    ...   ...      ...         ... .. .. .. .. ..  \n",
       "423961   43  22.99    1.0  2023  2023-02  2023-02-28  0  1  0  0  1  \n",
       "148018   43   3.33    0.0  2023  2023-02  2023-02-28  1  0  0  0  1  \n",
       "584776   43  18.31    0.0  2023  2023-02  2023-02-28  1  0  0  0  1  \n",
       "444817   43   8.31    0.0  2023  2023-02  2023-02-28  1  0  0  0  1  \n",
       "131338   43  13.79    1.0  2023  2023-02  2023-02-28  0  1  0  0  1  \n",
       "\n",
       "[25488 rows x 17 columns]"
      ]
     },
     "execution_count": 393,
     "metadata": {},
     "output_type": "execute_result"
    }
   ],
   "source": [
    "zoom_client = df_complet[df_complet.client_id=='c_1609']\n",
    "zoom_client"
   ]
  },
  {
   "cell_type": "code",
   "execution_count": 394,
   "id": "105bb3bb",
   "metadata": {},
   "outputs": [
    {
     "data": {
      "text/plain": [
       "id_prod\n",
       "0_1438    95\n",
       "0_1360    79\n",
       "0_1334    78\n",
       "0_1424    75\n",
       "0_1411    73\n",
       "0_1461    73\n",
       "0_1465    71\n",
       "0_1470    70\n",
       "0_1453    69\n",
       "0_1351    66\n",
       "Name: session_id, dtype: int64"
      ]
     },
     "execution_count": 394,
     "metadata": {},
     "output_type": "execute_result"
    }
   ],
   "source": [
    "c_1609 = df_complet[df_complet.client_id=='c_1609'].groupby(['id_prod'])[\"session_id\"].count()\n",
    "c_1609.nlargest(10)"
   ]
  },
  {
   "cell_type": "markdown",
   "id": "4089d9f2",
   "metadata": {},
   "source": [
    "Le cliente c_1609, un homme de 43 ans a acheté plusieurs fois les mêmes livres. Lui et les autres trois top acheteurs, peuvent être des revendeurs."
   ]
  },
  {
   "cell_type": "markdown",
   "id": "29567cba",
   "metadata": {},
   "source": [
    "**Nombre d'achat moyen par client:**"
   ]
  },
  {
   "cell_type": "code",
   "execution_count": 395,
   "id": "5da7711b",
   "metadata": {},
   "outputs": [
    {
     "data": {
      "text/plain": [
       "78.99209302325582"
      ]
     },
     "execution_count": 395,
     "metadata": {},
     "output_type": "execute_result"
    }
   ],
   "source": [
    "nombre_achat_moyen = df_complet.groupby([\"client_id\"])[\"session_id\"].count().mean()\n",
    "nombre_achat_moyen"
   ]
  },
  {
   "cell_type": "markdown",
   "id": "75ea4075",
   "metadata": {},
   "source": [
    "**Montant d'achat par client:**"
   ]
  },
  {
   "cell_type": "code",
   "execution_count": 396,
   "id": "92b64d40",
   "metadata": {},
   "outputs": [
    {
     "data": {
      "text/plain": [
       "client_id\n",
       "c_1        39\n",
       "c_10       58\n",
       "c_100       8\n",
       "c_1000    125\n",
       "c_1001    102\n",
       "         ... \n",
       "c_995      14\n",
       "c_996      95\n",
       "c_997      59\n",
       "c_998      53\n",
       "c_999      46\n",
       "Name: price, Length: 8600, dtype: int64"
      ]
     },
     "execution_count": 396,
     "metadata": {},
     "output_type": "execute_result"
    }
   ],
   "source": [
    "achat_par_client = df_complet.groupby([\"client_id\"])[\"price\"].count()\n",
    "achat_par_client"
   ]
  },
  {
   "cell_type": "markdown",
   "id": "5f5278f2",
   "metadata": {},
   "source": [
    "### Analyse CA et Nombre de ventes X  Genre:"
   ]
  },
  {
   "cell_type": "markdown",
   "id": "55bbb73d",
   "metadata": {},
   "source": [
    "**Depenses par genre:**"
   ]
  },
  {
   "cell_type": "code",
   "execution_count": 397,
   "id": "c509f3a2",
   "metadata": {},
   "outputs": [
    {
     "data": {
      "text/plain": [
       "sex\n",
       "f    338402\n",
       "m    340930\n",
       "Name: client_id, dtype: int64"
      ]
     },
     "execution_count": 397,
     "metadata": {},
     "output_type": "execute_result"
    }
   ],
   "source": [
    "division_genre = df_complet.groupby([\"sex\"])[\"client_id\"].count()\n",
    "division_genre"
   ]
  },
  {
   "cell_type": "code",
   "execution_count": 398,
   "id": "26932ab2",
   "metadata": {},
   "outputs": [
    {
     "data": {
      "image/png": "[encoded data removed]",
      "text/plain": [
       "<Figure size 640x480 with 1 Axes>"
      ]
     },
     "metadata": {},
     "output_type": "display_data"
    }
   ],
   "source": [
    "fig2, ax2 = plt.subplots()\n",
    "ax2.pie(division_genre,\n",
    "        labels=[\"Femme\",\"Homme\"],\n",
    "        autopct=\"%1.1f%%\")\n",
    "ax2.axis(\"equal\")\n",
    "plt.title(\"Division du nombre de clients par genres\")\n",
    "plt.show()"
   ]
  },
  {
   "cell_type": "markdown",
   "id": "8bf32515",
   "metadata": {},
   "source": [
    "Le nombre d'hommes et femmes parmis nos clients est quasiment égal"
   ]
  },
  {
   "cell_type": "markdown",
   "id": "626682da",
   "metadata": {},
   "source": [
    "**CA généré par genre:**"
   ]
  },
  {
   "cell_type": "code",
   "execution_count": 399,
   "id": "11aa9202",
   "metadata": {},
   "outputs": [
    {
     "data": {
      "text/plain": [
       "sex\n",
       "f    5860851.96\n",
       "m    5995084.51\n",
       "Name: price, dtype: float64"
      ]
     },
     "execution_count": 399,
     "metadata": {},
     "output_type": "execute_result"
    }
   ],
   "source": [
    "ca_genre = df_complet.groupby([\"sex\"])[\"price\"].sum()\n",
    "ca_genre"
   ]
  },
  {
   "cell_type": "code",
   "execution_count": 400,
   "id": "6598c868",
   "metadata": {},
   "outputs": [
    {
     "data": {
      "image/png": "[encoded data removed]",
      "text/plain": [
       "<Figure size 640x480 with 1 Axes>"
      ]
     },
     "metadata": {},
     "output_type": "display_data"
    }
   ],
   "source": [
    "fig2, ax2 = plt.subplots()\n",
    "ax2.pie(ca_genre,\n",
    "        labels=[\"Femmes\",\"Homme\"],\n",
    "        autopct=\"%1.1f%%\")\n",
    "ax2.axis(\"equal\")\n",
    "plt.title(\"Chiffre d'affaire généré par genre\")\n",
    "plt.show()"
   ]
  },
  {
   "cell_type": "markdown",
   "id": "20431467",
   "metadata": {},
   "source": [
    "Le CA généné par genre parmis nos clients est quasiment égal"
   ]
  },
  {
   "cell_type": "markdown",
   "id": "beb8e64c",
   "metadata": {},
   "source": [
    "**Courbe de Lorentz: Repartition du CA par client:**"
   ]
  },
  {
   "cell_type": "code",
   "execution_count": 401,
   "id": "6c57a036",
   "metadata": {},
   "outputs": [
    {
     "name": "stdout",
     "output_type": "stream",
     "text": [
      "indice de Gini: 0.447\n"
     ]
    },
    {
     "data": {
      "image/png": "[encoded data removed]",
      "text/plain": [
       "<Figure size 640x480 with 1 Axes>"
      ]
     },
     "metadata": {},
     "output_type": "display_data"
    }
   ],
   "source": [
    "lorenz_CA_client = np.cumsum(np.sort(prix_par_client)) / prix_par_client.sum()\n",
    "lorenz_CA_client = np.append([0], lorenz_CA_client)\n",
    "plt.plot(np.linspace(0,1,len(lorenz_CA_client)), lorenz_CA_client, drawstyle=\"steps-post\")\n",
    "plt.plot(np.linspace(0,1,len(lorenz_CA_client)), np.linspace(0,1,len(lorenz_CA_client)), color =\"grey\", dashes=[2,4])\n",
    "plt.ylabel(\"Chiffre d'affaires culmulé\")\n",
    "plt.xlabel(\"Parts des achats cumulés\")\n",
    "plt.title(\"Répartition du chiffre d'affaires entre les clients\")\n",
    "courbe_CA_client = lorenz_CA_client[:-1].sum() / len(lorenz_CA_client)\n",
    "S_ca_client = 0.5 - courbe_CA_client\n",
    "gini_CA_client = 2*S_ca_client\n",
    "print(\"indice de Gini:\",round(gini_CA_client,3))"
   ]
  },
  {
   "cell_type": "code",
   "execution_count": 508,
   "id": "25180397",
   "metadata": {},
   "outputs": [
    {
     "data": {
      "text/plain": [
       "array([0.00000000e+00, 5.32222825e-07, 1.23229405e-06, ...,\n",
       "       9.48229000e-01, 9.72669105e-01, 1.00000000e+00])"
      ]
     },
     "execution_count": 508,
     "metadata": {},
     "output_type": "execute_result"
    }
   ],
   "source": [
    "lorenz_CA_client"
   ]
  },
  {
   "cell_type": "code",
   "execution_count": 402,
   "id": "5424ebcf",
   "metadata": {},
   "outputs": [
    {
     "name": "stdout",
     "output_type": "stream",
     "text": [
      "indice de Gini: 0.498\n"
     ]
    },
    {
     "data": {
      "image/png": "[encoded data removed]",
      "text/plain": [
       "<Figure size 640x480 with 1 Axes>"
      ]
     },
     "metadata": {},
     "output_type": "display_data"
    }
   ],
   "source": [
    "lorenz_NB_client = np.cumsum(np.sort(achat_par_client)) / achat_par_client.sum()\n",
    "lorenz_NB_client = np.append([0], lorenz_NB_client)\n",
    "plt.plot(np.linspace(0,1,len(lorenz_NB_client)), lorenz_NB_client, drawstyle=\"steps-post\")\n",
    "plt.plot(np.linspace(0,1,len(lorenz_NB_client)), np.linspace(0,1,len(lorenz_NB_client)), color =\"grey\", dashes=[2,4])\n",
    "plt.ylabel(\"Nombre d'achat culmulé\")\n",
    "plt.xlabel(\"Parts des achats cumulés\")\n",
    "plt.title(\"Répartition du nombre d'achat par client\")\n",
    "courbe_NB_client = lorenz_NB_client[:-1].sum() / len(lorenz_NB_client)\n",
    "S_nb_client = 0.5 - courbe_NB_client\n",
    "gini_NB_client = 2*S_nb_client\n",
    "print(\"indice de Gini:\",round(gini_NB_client,3))\n"
   ]
  },
  {
   "cell_type": "markdown",
   "id": "76450a86",
   "metadata": {},
   "source": [
    "**Analyse entre le genre d’un client et les catégories des livres achetés:** "
   ]
  },
  {
   "cell_type": "markdown",
   "id": "bc3b5a42",
   "metadata": {},
   "source": [
    "**Table de contingence pour Chi²:**"
   ]
  },
  {
   "cell_type": "code",
   "execution_count": 523,
   "id": "f32dd472",
   "metadata": {},
   "outputs": [
    {
     "data": {
      "text/html": [
       "<div>\n",
       "<style scoped>\n",
       "    .dataframe tbody tr th:only-of-type {\n",
       "        vertical-align: middle;\n",
       "    }\n",
       "\n",
       "    .dataframe tbody tr th {\n",
       "        vertical-align: top;\n",
       "    }\n",
       "\n",
       "    .dataframe thead th {\n",
       "        text-align: right;\n",
       "    }\n",
       "</style>\n",
       "<table border=\"1\" class=\"dataframe\">\n",
       "  <thead>\n",
       "    <tr style=\"text-align: right;\">\n",
       "      <th>categ</th>\n",
       "      <th>0.0</th>\n",
       "      <th>1.0</th>\n",
       "      <th>2.0</th>\n",
       "    </tr>\n",
       "    <tr>\n",
       "      <th>sex</th>\n",
       "      <th></th>\n",
       "      <th></th>\n",
       "      <th></th>\n",
       "    </tr>\n",
       "  </thead>\n",
       "  <tbody>\n",
       "    <tr>\n",
       "      <th>f</th>\n",
       "      <td>206220</td>\n",
       "      <td>114899</td>\n",
       "      <td>17283</td>\n",
       "    </tr>\n",
       "    <tr>\n",
       "      <th>m</th>\n",
       "      <td>209460</td>\n",
       "      <td>112270</td>\n",
       "      <td>19200</td>\n",
       "    </tr>\n",
       "  </tbody>\n",
       "</table>\n",
       "</div>"
      ],
      "text/plain": [
       "categ     0.0     1.0    2.0\n",
       "sex                         \n",
       "f      206220  114899  17283\n",
       "m      209460  112270  19200"
      ]
     },
     "execution_count": 523,
     "metadata": {},
     "output_type": "execute_result"
    }
   ],
   "source": [
    "crosstab_categ_sex = pd.crosstab(df_complet['sex'], df_complet['categ'])\n",
    "crosstab_categ_sex"
   ]
  },
  {
   "cell_type": "code",
   "execution_count": 524,
   "id": "13e7d9df",
   "metadata": {
    "scrolled": true
   },
   "outputs": [
    {
     "name": "stdout",
     "output_type": "stream",
     "text": [
      "Les fréquences théoriques sont:\n",
      " [[207066.56444861 113161.81769444  18173.61785695]\n",
      " [208613.43555139 114007.18230556  18309.38214305]] 3\n",
      "Le X² est de 147.003 à 2 ddl\n",
      "La p-value est de 1.1989607410166063e-32\n"
     ]
    }
   ],
   "source": [
    "chi2, p_value, do_freedom, expected_value = st.chi2_contingency(crosstab_categ_sex)\n",
    "\n",
    "print(\"Les fréquences théoriques sont:\\n\", expected_value,3)\n",
    "print(f\"Le X² est de {chi2:.3f} à\", do_freedom, \"ddl\")\n",
    "print(f\"La p-value est de\", p_value)"
   ]
  },
  {
   "cell_type": "markdown",
   "id": "1ad4af66",
   "metadata": {},
   "source": [
    "**H0: Il n'y aurait pas de rélation entre une catégorie achétée et le genre de l'acheteur.**"
   ]
  },
  {
   "cell_type": "markdown",
   "id": "67843994",
   "metadata": {},
   "source": [
    "Teste d'hypothese pour un crosstab: \n",
    "H0: il n'y a pas de rélation entre la catégorie et le sexe\n",
    "H1: c'est l'inverse de H0 = il y a une rélation entre la categ et le sexe\n",
    "\n",
    "\n",
    "4 resultats: 147: valeur Chi2\n",
    "\n",
    "1,19e-32  Pvalue est inférieur à alfa qui est égal à 0,05 (5%)\n",
    "quand elle est inférieure à alfa, on rejete H0, c'est-à-dire, il y a une rélation entre la categ et le sexe\n",
    "\n",
    "2: dégré de liberté \n",
    "\n",
    "array: expected count"
   ]
  },
  {
   "cell_type": "markdown",
   "id": "0e9cee1c",
   "metadata": {},
   "source": [
    "**Calcul de Cramer's V:**"
   ]
  },
  {
   "cell_type": "code",
   "execution_count": 526,
   "id": "cb337397",
   "metadata": {},
   "outputs": [
    {
     "data": {
      "text/plain": [
       "0.015"
      ]
     },
     "execution_count": 526,
     "metadata": {},
     "output_type": "execute_result"
    }
   ],
   "source": [
    "K = min(crosstab_categ_sex.shape)\n",
    "N = crosstab_categ_sex.sum().sum()\n",
    "Cramers_v = round(np.sqrt(chi2/N)/(K-1),3)\n",
    "Cramers_v"
   ]
  },
  {
   "cell_type": "markdown",
   "id": "46b11db6",
   "metadata": {},
   "source": [
    "Cramers'V entre 00,00 et 00,10 - Relation Négligeable \n",
    "\n",
    "Analyse des variables catégories achetées et genre: Les catégories achetées ne dépendent pas du genre de l'acheteur."
   ]
  },
  {
   "cell_type": "code",
   "execution_count": 534,
   "id": "251f36f9",
   "metadata": {},
   "outputs": [
    {
     "data": {
      "text/plain": [
       "<AxesSubplot:xlabel='categ'>"
      ]
     },
     "execution_count": 534,
     "metadata": {},
     "output_type": "execute_result"
    },
    {
     "data": {
      "image/png": "[encoded data removed]",
      "text/plain": [
       "<Figure size 640x480 with 1 Axes>"
      ]
     },
     "metadata": {},
     "output_type": "display_data"
    }
   ],
   "source": [
    "crosstab_categ_sex.T.plot.bar()"
   ]
  },
  {
   "cell_type": "markdown",
   "id": "8020ab6e",
   "metadata": {},
   "source": [
    "## One way anova:\n",
    "#pré-requis por le test ANOVA: il faut que les 3 sous group suivent une loi normale"
   ]
  },
  {
   "cell_type": "markdown",
   "id": "5063a9b2",
   "metadata": {},
   "source": [
    "### Rélation entre la catégorie achetée et l'age des clients:"
   ]
  },
  {
   "cell_type": "code",
   "execution_count": 481,
   "id": "364bcac6",
   "metadata": {},
   "outputs": [
    {
     "data": {
      "text/plain": [
       "{0.0: 480501    56\n",
       " 428350    63\n",
       " 462563    35\n",
       " 488153    34\n",
       " 438944    67\n",
       "           ..\n",
       " 456768    37\n",
       " 414761    39\n",
       " 428944    46\n",
       " 550293    70\n",
       " 84255     42\n",
       " Name: age, Length: 415680, dtype: int64,\n",
       " 1.0: 479846    55\n",
       " 326940    40\n",
       " 138881    53\n",
       " 522059    41\n",
       " 202590    34\n",
       "           ..\n",
       " 388966    39\n",
       " 453363    43\n",
       " 118885    51\n",
       " 184602    27\n",
       " 130140    38\n",
       " Name: age, Length: 227169, dtype: int64,\n",
       " 2.0: 247066    19\n",
       " 342045    19\n",
       " 382323    19\n",
       " 199007    22\n",
       " 287606    19\n",
       "           ..\n",
       " 647223    24\n",
       " 501332    77\n",
       " 13159     24\n",
       " 258673    25\n",
       " 588008    29\n",
       " Name: age, Length: 36483, dtype: int64}"
      ]
     },
     "execution_count": 481,
     "metadata": {},
     "output_type": "execute_result"
    }
   ],
   "source": [
    "categ = df_complet[\"categ\"].unique()\n",
    "categ_age = {categ: df_complet.loc[df_complet[\"categ\"]==categ, \"age\"] for categ in categ}\n",
    "categ_age"
   ]
  },
  {
   "cell_type": "code",
   "execution_count": 483,
   "id": "952f172b",
   "metadata": {},
   "outputs": [
    {
     "data": {
      "image/png": "[encoded data removed]",
      "text/plain": [
       "<Figure size 640x480 with 1 Axes>"
      ]
     },
     "metadata": {},
     "output_type": "display_data"
    }
   ],
   "source": [
    "plt.boxplot([\n",
    "    categ_age[0],\n",
    "    categ_age[1],\n",
    "    categ_age[2]]\n",
    "    ,labels=[\"Catégorie 0\", \"Catégorie 1\", \"Catégorie 2\"],showmeans=True, showfliers=False)\n",
    "plt.ylabel(\"Age\")\n",
    "plt.title(\"Distribution des âges des acheteurs par catégories\")\n",
    "plt.show()"
   ]
  },
  {
   "cell_type": "markdown",
   "id": "d5294461",
   "metadata": {},
   "source": [
    "**Prerequis de normalité (Teste Shapiro):**"
   ]
  },
  {
   "cell_type": "code",
   "execution_count": 539,
   "id": "7c523d0b",
   "metadata": {},
   "outputs": [
    {
     "data": {
      "text/plain": [
       "ShapiroResult(statistic=0.9367284774780273, pvalue=0.0)"
      ]
     },
     "execution_count": 539,
     "metadata": {},
     "output_type": "execute_result"
    }
   ],
   "source": [
    "shapiro(df_complet[df_complet['categ']==0]['age'])"
   ]
  },
  {
   "cell_type": "code",
   "execution_count": 537,
   "id": "34cf83c3",
   "metadata": {},
   "outputs": [
    {
     "data": {
      "text/plain": [
       "ShapiroResult(statistic=0.9893467426300049, pvalue=0.0)"
      ]
     },
     "execution_count": 537,
     "metadata": {},
     "output_type": "execute_result"
    }
   ],
   "source": [
    "shapiro(df_complet[df_complet['categ']==1]['age'])"
   ]
  },
  {
   "cell_type": "code",
   "execution_count": 538,
   "id": "b27fc481",
   "metadata": {},
   "outputs": [
    {
     "data": {
      "text/plain": [
       "ShapiroResult(statistic=0.6679463386535645, pvalue=0.0)"
      ]
     },
     "execution_count": 538,
     "metadata": {},
     "output_type": "execute_result"
    }
   ],
   "source": [
    "shapiro(df_complet[df_complet['categ']==2]['age'])"
   ]
  },
  {
   "cell_type": "markdown",
   "id": "60d4062a",
   "metadata": {},
   "source": [
    "Teste Shapiro catégorie achetée sur la variable age des clients\n",
    "\n",
    "H0:l'échantillon suit une loi normale \n",
    "\n",
    "H1:l'échantillon ne suit pas une loi normale \n",
    "\n",
    "Si la P_value est inférieure à 0,05, on rejette H0, donc, l'échantillon ne suit pas une loi normale \n",
    "\n",
    "Si la P_value est supérieure à 0,05, on mantient H0, donc, l'échantillon suit une loi normale\n",
    "\n",
    "Resultat:Les 3 échantillons ne suivent pas une loi normale. Le premier prérequis n'est pas satisfait. on passe donc, le teste Kruskal-Wallis\n",
    "\n",
    "Pour des raisons pédacogiques, on vérifie le deuxième prérequis (Teste Levene pour l'égalité des variances)"
   ]
  },
  {
   "cell_type": "markdown",
   "id": "27950dae",
   "metadata": {},
   "source": [
    "**Prérequis: Egalité de variances (Teste Levene):**"
   ]
  },
  {
   "cell_type": "code",
   "execution_count": 541,
   "id": "bf78350e",
   "metadata": {},
   "outputs": [
    {
     "data": {
      "text/plain": [
       "LeveneResult(statistic=26091.730839883516, pvalue=0.0)"
      ]
     },
     "execution_count": 541,
     "metadata": {},
     "output_type": "execute_result"
    }
   ],
   "source": [
    "st.levene(categ_age[0], categ_age[1], categ_age[2])"
   ]
  },
  {
   "cell_type": "markdown",
   "id": "c12c46b0",
   "metadata": {},
   "source": [
    "Teste Levene catégorie achetée sur la variable age des clients\n",
    "\n",
    "H0:Les trois sous-groupes ont la même variance.\n",
    "\n",
    "H1:Il y a au moin un des sous-groupe qui a une variance différente de deux autres.\n",
    "\n",
    "Si la P_value est inférieure à 0,05, on rejette H0, donc, les variances ne sont pas toutes égales\n",
    "\n",
    "Si la P_value est supérieure à 0,05, on mantient H0, donc, les variances sont toutes égales\n",
    "\n",
    "Résultat: Les variances ne sont pas toutes égales. Le deuxième prérequis ne pas satisfait non plus"
   ]
  },
  {
   "cell_type": "markdown",
   "id": "a84073e6",
   "metadata": {},
   "source": [
    "**Le test centrale de Kruskal Wallis (non-parametrique):**"
   ]
  },
  {
   "cell_type": "code",
   "execution_count": 545,
   "id": "c86c5303",
   "metadata": {},
   "outputs": [
    {
     "data": {
      "text/plain": [
       "KruskalResult(statistic=79350.86927924873, pvalue=0.0)"
      ]
     },
     "execution_count": 545,
     "metadata": {},
     "output_type": "execute_result"
    }
   ],
   "source": [
    "st.kruskal(categ_age[0], categ_age[1], categ_age[2])"
   ]
  },
  {
   "cell_type": "markdown",
   "id": "1893e3aa",
   "metadata": {},
   "source": [
    "Le test de Kruskal Wallis, est non paramétrique\n",
    "\n",
    "H0: Les mediane de touts les sous-groupes sont égales\n",
    "\n",
    "H1:Il y a au moin un des sous-groupe qui a une mediane différente de deux autres.\n",
    "\n",
    "Si la P_value est inférieure à 0,05, on rejette H0, donc, les medianes ne sont pas toutes égales\n",
    "\n",
    "Si la P_value est supérieure à 0,05, on mantient H0, donc, les medianes sont toutes égales\n",
    "\n",
    "Résultat: Les medianes ne sont pas toutes égales. \n",
    "\n",
    "\n",
    "Il n'y aurait pas de différence entre l'âge median d'achat par catégorie"
   ]
  },
  {
   "cell_type": "markdown",
   "id": "37920bec",
   "metadata": {},
   "source": [
    "### Age X Montant d'achat:"
   ]
  },
  {
   "cell_type": "markdown",
   "id": "8dd0c4df",
   "metadata": {},
   "source": [
    "Etape 1: On veut étudier la relation entre l'age et le montant depensé"
   ]
  },
  {
   "cell_type": "code",
   "execution_count": 411,
   "id": "48232b13",
   "metadata": {},
   "outputs": [
    {
     "data": {
      "text/html": [
       "<div>\n",
       "<style scoped>\n",
       "    .dataframe tbody tr th:only-of-type {\n",
       "        vertical-align: middle;\n",
       "    }\n",
       "\n",
       "    .dataframe tbody tr th {\n",
       "        vertical-align: top;\n",
       "    }\n",
       "\n",
       "    .dataframe thead th {\n",
       "        text-align: right;\n",
       "    }\n",
       "</style>\n",
       "<table border=\"1\" class=\"dataframe\">\n",
       "  <thead>\n",
       "    <tr style=\"text-align: right;\">\n",
       "      <th></th>\n",
       "      <th>price</th>\n",
       "      <th>age</th>\n",
       "    </tr>\n",
       "    <tr>\n",
       "      <th>client_id</th>\n",
       "      <th></th>\n",
       "      <th></th>\n",
       "    </tr>\n",
       "  </thead>\n",
       "  <tbody>\n",
       "    <tr>\n",
       "      <th>c_1</th>\n",
       "      <td>558.18</td>\n",
       "      <td>68</td>\n",
       "    </tr>\n",
       "    <tr>\n",
       "      <th>c_10</th>\n",
       "      <td>1353.60</td>\n",
       "      <td>67</td>\n",
       "    </tr>\n",
       "    <tr>\n",
       "      <th>c_100</th>\n",
       "      <td>254.85</td>\n",
       "      <td>31</td>\n",
       "    </tr>\n",
       "    <tr>\n",
       "      <th>c_1000</th>\n",
       "      <td>2261.89</td>\n",
       "      <td>57</td>\n",
       "    </tr>\n",
       "    <tr>\n",
       "      <th>c_1001</th>\n",
       "      <td>1812.86</td>\n",
       "      <td>41</td>\n",
       "    </tr>\n",
       "    <tr>\n",
       "      <th>...</th>\n",
       "      <td>...</td>\n",
       "      <td>...</td>\n",
       "    </tr>\n",
       "    <tr>\n",
       "      <th>c_995</th>\n",
       "      <td>189.41</td>\n",
       "      <td>68</td>\n",
       "    </tr>\n",
       "    <tr>\n",
       "      <th>c_996</th>\n",
       "      <td>1625.58</td>\n",
       "      <td>53</td>\n",
       "    </tr>\n",
       "    <tr>\n",
       "      <th>c_997</th>\n",
       "      <td>1490.01</td>\n",
       "      <td>29</td>\n",
       "    </tr>\n",
       "    <tr>\n",
       "      <th>c_998</th>\n",
       "      <td>2779.88</td>\n",
       "      <td>22</td>\n",
       "    </tr>\n",
       "    <tr>\n",
       "      <th>c_999</th>\n",
       "      <td>701.40</td>\n",
       "      <td>59</td>\n",
       "    </tr>\n",
       "  </tbody>\n",
       "</table>\n",
       "<p>8600 rows × 2 columns</p>\n",
       "</div>"
      ],
      "text/plain": [
       "             price  age\n",
       "client_id              \n",
       "c_1         558.18   68\n",
       "c_10       1353.60   67\n",
       "c_100       254.85   31\n",
       "c_1000     2261.89   57\n",
       "c_1001     1812.86   41\n",
       "...            ...  ...\n",
       "c_995       189.41   68\n",
       "c_996      1625.58   53\n",
       "c_997      1490.01   29\n",
       "c_998      2779.88   22\n",
       "c_999       701.40   59\n",
       "\n",
       "[8600 rows x 2 columns]"
      ]
     },
     "execution_count": 411,
     "metadata": {},
     "output_type": "execute_result"
    }
   ],
   "source": [
    "tot_achats_age = df_complet.groupby([\"client_id\"]).agg({\"price\":\"sum\",\"age\":\"max\"})\n",
    "tot_achats_age"
   ]
  },
  {
   "cell_type": "code",
   "execution_count": 412,
   "id": "17588313",
   "metadata": {
    "scrolled": true
   },
   "outputs": [
    {
     "data": {
      "image/png": "[encoded data removed]",
      "text/plain": [
       "<Figure size 640x480 with 1 Axes>"
      ]
     },
     "metadata": {},
     "output_type": "display_data"
    }
   ],
   "source": [
    "sns.scatterplot(data = tot_achats_age)\n",
    "plt.ylabel(\"Montant en €\")\n",
    "plt.xlabel(\"Age\")\n",
    "plt.title(\"Montant d'achat par age\")\n",
    "plt.show()"
   ]
  },
  {
   "cell_type": "markdown",
   "id": "7a6ec822",
   "metadata": {},
   "source": [
    "**Traitement des points aberrants: analyser les clients qui dépensent moins de 50K**"
   ]
  },
  {
   "cell_type": "code",
   "execution_count": 413,
   "id": "99a851a4",
   "metadata": {
    "scrolled": true
   },
   "outputs": [
    {
     "data": {
      "text/html": [
       "<div>\n",
       "<style scoped>\n",
       "    .dataframe tbody tr th:only-of-type {\n",
       "        vertical-align: middle;\n",
       "    }\n",
       "\n",
       "    .dataframe tbody tr th {\n",
       "        vertical-align: top;\n",
       "    }\n",
       "\n",
       "    .dataframe thead th {\n",
       "        text-align: right;\n",
       "    }\n",
       "</style>\n",
       "<table border=\"1\" class=\"dataframe\">\n",
       "  <thead>\n",
       "    <tr style=\"text-align: right;\">\n",
       "      <th></th>\n",
       "      <th>price</th>\n",
       "    </tr>\n",
       "    <tr>\n",
       "      <th>age</th>\n",
       "      <th></th>\n",
       "    </tr>\n",
       "  </thead>\n",
       "  <tbody>\n",
       "    <tr>\n",
       "      <th>19</th>\n",
       "      <td>1393.624005</td>\n",
       "    </tr>\n",
       "    <tr>\n",
       "      <th>20</th>\n",
       "      <td>1228.936414</td>\n",
       "    </tr>\n",
       "    <tr>\n",
       "      <th>21</th>\n",
       "      <td>1270.395310</td>\n",
       "    </tr>\n",
       "    <tr>\n",
       "      <th>22</th>\n",
       "      <td>1427.981600</td>\n",
       "    </tr>\n",
       "    <tr>\n",
       "      <th>23</th>\n",
       "      <td>1213.440882</td>\n",
       "    </tr>\n",
       "    <tr>\n",
       "      <th>...</th>\n",
       "      <td>...</td>\n",
       "    </tr>\n",
       "    <tr>\n",
       "      <th>90</th>\n",
       "      <td>658.042500</td>\n",
       "    </tr>\n",
       "    <tr>\n",
       "      <th>91</th>\n",
       "      <td>840.531667</td>\n",
       "    </tr>\n",
       "    <tr>\n",
       "      <th>92</th>\n",
       "      <td>703.862500</td>\n",
       "    </tr>\n",
       "    <tr>\n",
       "      <th>93</th>\n",
       "      <td>1003.467500</td>\n",
       "    </tr>\n",
       "    <tr>\n",
       "      <th>94</th>\n",
       "      <td>1073.950000</td>\n",
       "    </tr>\n",
       "  </tbody>\n",
       "</table>\n",
       "<p>76 rows × 1 columns</p>\n",
       "</div>"
      ],
      "text/plain": [
       "           price\n",
       "age             \n",
       "19   1393.624005\n",
       "20   1228.936414\n",
       "21   1270.395310\n",
       "22   1427.981600\n",
       "23   1213.440882\n",
       "..           ...\n",
       "90    658.042500\n",
       "91    840.531667\n",
       "92    703.862500\n",
       "93   1003.467500\n",
       "94   1073.950000\n",
       "\n",
       "[76 rows x 1 columns]"
      ]
     },
     "execution_count": 413,
     "metadata": {},
     "output_type": "execute_result"
    }
   ],
   "source": [
    "tot_achats_age = tot_achats_age[tot_achats_age.price<50000].groupby([\"age\"]).agg({\"price\":\"mean\"})\n",
    "tot_achats_age"
   ]
  },
  {
   "cell_type": "markdown",
   "id": "e67f5de2",
   "metadata": {},
   "source": [
    "Constatation graphique d'une correlation"
   ]
  },
  {
   "cell_type": "code",
   "execution_count": 414,
   "id": "71c8a481",
   "metadata": {
    "scrolled": true
   },
   "outputs": [
    {
     "data": {
      "image/png": "[encoded data removed]",
      "text/plain": [
       "<Figure size 640x480 with 1 Axes>"
      ]
     },
     "metadata": {},
     "output_type": "display_data"
    }
   ],
   "source": [
    "sns.scatterplot(data = tot_achats_age)\n",
    "plt.ylabel(\"Montant en €\")\n",
    "plt.xlabel(\"Age\")\n",
    "plt.title(\"Montant d'achat par age\")\n",
    "plt.show()"
   ]
  },
  {
   "cell_type": "markdown",
   "id": "fbe49511",
   "metadata": {},
   "source": [
    "On remarque qu'il n'y a pas une corrélation (one ne peut pas dessiner une elipse regroupant la majorité des points. Visuelement, on débuit qu'il n'y a pas de rélation. pour des raison pédagogiques, on continue la procédure de regression. "
   ]
  },
  {
   "cell_type": "markdown",
   "id": "6cb3b52e",
   "metadata": {},
   "source": [
    "Etape 2: On fixe le risque à 5% (0,05)"
   ]
  },
  {
   "cell_type": "markdown",
   "id": "241cb82d",
   "metadata": {},
   "source": [
    "Etape 3: Estimation de l'equation\n",
    "y (montant) = B1 * x (l'age) + B0 + residus\n",
    "H0: B1 est égal à 0\n",
    "H1: B1 est différent de 0\n",
    "Si la P_value est inférieure à 0,05, on rejette H0, donc, le B1 est différent de 0\n",
    "Si la P_value est supérieure à 0,05, on mantient H0, donc, le B1 est égal à 0"
   ]
  },
  {
   "cell_type": "code",
   "execution_count": 415,
   "id": "23ad0c45",
   "metadata": {},
   "outputs": [],
   "source": [
    "tot_achats_age.reset_index(inplace=True)"
   ]
  },
  {
   "cell_type": "code",
   "execution_count": 416,
   "id": "53cb83ab",
   "metadata": {},
   "outputs": [
    {
     "data": {
      "text/html": [
       "<table class=\"simpletable\">\n",
       "<caption>OLS Regression Results</caption>\n",
       "<tr>\n",
       "  <th>Dep. Variable:</th>          <td>price</td>      <th>  R-squared:         </th> <td>   0.572</td>\n",
       "</tr>\n",
       "<tr>\n",
       "  <th>Model:</th>                   <td>OLS</td>       <th>  Adj. R-squared:    </th> <td>   0.567</td>\n",
       "</tr>\n",
       "<tr>\n",
       "  <th>Method:</th>             <td>Least Squares</td>  <th>  F-statistic:       </th> <td>   99.09</td>\n",
       "</tr>\n",
       "<tr>\n",
       "  <th>Date:</th>             <td>Thu, 30 Mar 2023</td> <th>  Prob (F-statistic):</th> <td>2.68e-15</td>\n",
       "</tr>\n",
       "<tr>\n",
       "  <th>Time:</th>                 <td>11:27:28</td>     <th>  Log-Likelihood:    </th> <td> -510.59</td>\n",
       "</tr>\n",
       "<tr>\n",
       "  <th>No. Observations:</th>      <td>    76</td>      <th>  AIC:               </th> <td>   1025.</td>\n",
       "</tr>\n",
       "<tr>\n",
       "  <th>Df Residuals:</th>          <td>    74</td>      <th>  BIC:               </th> <td>   1030.</td>\n",
       "</tr>\n",
       "<tr>\n",
       "  <th>Df Model:</th>              <td>     1</td>      <th>                     </th>     <td> </td>   \n",
       "</tr>\n",
       "<tr>\n",
       "  <th>Covariance Type:</th>      <td>nonrobust</td>    <th>                     </th>     <td> </td>   \n",
       "</tr>\n",
       "</table>\n",
       "<table class=\"simpletable\">\n",
       "<tr>\n",
       "      <td></td>         <th>coef</th>     <th>std err</th>      <th>t</th>      <th>P>|t|</th>  <th>[0.025</th>    <th>0.975]</th>  \n",
       "</tr>\n",
       "<tr>\n",
       "  <th>age</th>       <td>  -10.5609</td> <td>    1.061</td> <td>   -9.954</td> <td> 0.000</td> <td>  -12.675</td> <td>   -8.447</td>\n",
       "</tr>\n",
       "<tr>\n",
       "  <th>intercept</th> <td> 1740.1614</td> <td>   64.302</td> <td>   27.062</td> <td> 0.000</td> <td> 1612.037</td> <td> 1868.286</td>\n",
       "</tr>\n",
       "</table>\n",
       "<table class=\"simpletable\">\n",
       "<tr>\n",
       "  <th>Omnibus:</th>       <td>10.382</td> <th>  Durbin-Watson:     </th> <td>   0.579</td>\n",
       "</tr>\n",
       "<tr>\n",
       "  <th>Prob(Omnibus):</th> <td> 0.006</td> <th>  Jarque-Bera (JB):  </th> <td>   5.241</td>\n",
       "</tr>\n",
       "<tr>\n",
       "  <th>Skew:</th>          <td> 0.434</td> <th>  Prob(JB):          </th> <td>  0.0728</td>\n",
       "</tr>\n",
       "<tr>\n",
       "  <th>Kurtosis:</th>      <td> 2.050</td> <th>  Cond. No.          </th> <td>    167.</td>\n",
       "</tr>\n",
       "</table><br/><br/>Notes:<br/>[1] Standard Errors assume that the covariance matrix of the errors is correctly specified."
      ],
      "text/plain": [
       "<class 'statsmodels.iolib.summary.Summary'>\n",
       "\"\"\"\n",
       "                            OLS Regression Results                            \n",
       "==============================================================================\n",
       "Dep. Variable:                  price   R-squared:                       0.572\n",
       "Model:                            OLS   Adj. R-squared:                  0.567\n",
       "Method:                 Least Squares   F-statistic:                     99.09\n",
       "Date:                Thu, 30 Mar 2023   Prob (F-statistic):           2.68e-15\n",
       "Time:                        11:27:28   Log-Likelihood:                -510.59\n",
       "No. Observations:                  76   AIC:                             1025.\n",
       "Df Residuals:                      74   BIC:                             1030.\n",
       "Df Model:                           1                                         \n",
       "Covariance Type:            nonrobust                                         \n",
       "==============================================================================\n",
       "                 coef    std err          t      P>|t|      [0.025      0.975]\n",
       "------------------------------------------------------------------------------\n",
       "age          -10.5609      1.061     -9.954      0.000     -12.675      -8.447\n",
       "intercept   1740.1614     64.302     27.062      0.000    1612.037    1868.286\n",
       "==============================================================================\n",
       "Omnibus:                       10.382   Durbin-Watson:                   0.579\n",
       "Prob(Omnibus):                  0.006   Jarque-Bera (JB):                5.241\n",
       "Skew:                           0.434   Prob(JB):                       0.0728\n",
       "Kurtosis:                       2.050   Cond. No.                         167.\n",
       "==============================================================================\n",
       "\n",
       "Notes:\n",
       "[1] Standard Errors assume that the covariance matrix of the errors is correctly specified.\n",
       "\"\"\""
      ]
     },
     "execution_count": 416,
     "metadata": {},
     "output_type": "execute_result"
    }
   ],
   "source": [
    "#computstat\n",
    "import statsmodels.api as sm\n",
    "tot_achats_age['intercept']=1\n",
    "lm=sm.OLS(tot_achats_age['price'],tot_achats_age[['age','intercept']])\n",
    "results=lm.fit()\n",
    "results.summary()"
   ]
  },
  {
   "cell_type": "markdown",
   "id": "43afb746",
   "metadata": {},
   "source": [
    "y (montant) = -10.56 * x (l'age) + 1740.16 + residus\n",
    "On va vérifier si les residus suivent une loi normale pour conclure la fiabilité de notre modèle\n",
    "H0:l'échantillon suit une loi normale\n",
    "H1:l'échantillon ne suit pas une loi normale\n",
    "Si la P_value est inférieure à 0,05, on rejette H0, donc, l'échantillon ne suit pas une loi normale\n",
    "Si la P_value est supérieure à 0,05, on mantient H0, donc, l'échantillon suit une loi normale"
   ]
  },
  {
   "cell_type": "markdown",
   "id": "d8cc3f30",
   "metadata": {},
   "source": [
    "**Condition de normalité des résidus:**"
   ]
  },
  {
   "cell_type": "code",
   "execution_count": 417,
   "id": "3af178d8",
   "metadata": {},
   "outputs": [
    {
     "data": {
      "text/plain": [
       "ShapiroResult(statistic=0.9445302486419678, pvalue=0.0023333774879574776)"
      ]
     },
     "execution_count": 417,
     "metadata": {},
     "output_type": "execute_result"
    }
   ],
   "source": [
    "st.shapiro(results.resid)"
   ]
  },
  {
   "cell_type": "markdown",
   "id": "13158caf",
   "metadata": {},
   "source": [
    "Conclusion: la P_value est inférieure à 0,05, on rejette H0, donc, les residus ne suivent pas une loi normale.\n",
    "Donc, on passe un test non parametrique Spearman pour conclure sur la corrélation entre les deux variables (age X montant dépensé)"
   ]
  },
  {
   "cell_type": "markdown",
   "id": "ab6ea201",
   "metadata": {},
   "source": [
    "**Teste non-parametrique de SpearmanR:**"
   ]
  },
  {
   "cell_type": "code",
   "execution_count": 418,
   "id": "6b013d53",
   "metadata": {},
   "outputs": [
    {
     "data": {
      "text/plain": [
       "SpearmanrResult(correlation=-0.7246206425153793, pvalue=1.3672335151214274e-13)"
      ]
     },
     "execution_count": 418,
     "metadata": {},
     "output_type": "execute_result"
    }
   ],
   "source": [
    "st.spearmanr(tot_achats_age['price'],tot_achats_age['age'])"
   ]
  },
  {
   "cell_type": "markdown",
   "id": "aa9415d9",
   "metadata": {},
   "source": [
    "Spearman Test:\n",
    "\n",
    "H0:les variables sont indépendentes\n",
    "\n",
    "H1:les variables sont dépendentes\n",
    "\n",
    "Si la P_value est inférieure à 0,05, on rejette H0, donc, les variables sont dépendentes\n",
    "Si la P_value est supérieure à 0,05, on mantient H0, donc, les variables sont indépendentes\n"
   ]
  },
  {
   "cell_type": "markdown",
   "id": "40a7df24",
   "metadata": {},
   "source": [
    "La P_value est inférieure à 0,05, on rejette H0, donc, les variables sont dépendentes\n",
    "Le coeficient de correlation R = -0.72 (entre 0,7 et 1  donc, il y a une interélation disproportionelle linéaire très forte)"
   ]
  },
  {
   "cell_type": "markdown",
   "id": "a005b5b0",
   "metadata": {},
   "source": [
    "### Age X Frequence d'achat :"
   ]
  },
  {
   "cell_type": "markdown",
   "id": "7381604d",
   "metadata": {},
   "source": [
    "Etape 1: On veut étudier la relation entre l'age et la frequence d'achat:"
   ]
  },
  {
   "cell_type": "code",
   "execution_count": 419,
   "id": "65162494",
   "metadata": {},
   "outputs": [
    {
     "data": {
      "text/html": [
       "<div>\n",
       "<style scoped>\n",
       "    .dataframe tbody tr th:only-of-type {\n",
       "        vertical-align: middle;\n",
       "    }\n",
       "\n",
       "    .dataframe tbody tr th {\n",
       "        vertical-align: top;\n",
       "    }\n",
       "\n",
       "    .dataframe thead th {\n",
       "        text-align: right;\n",
       "    }\n",
       "</style>\n",
       "<table border=\"1\" class=\"dataframe\">\n",
       "  <thead>\n",
       "    <tr style=\"text-align: right;\">\n",
       "      <th></th>\n",
       "      <th>age</th>\n",
       "      <th>count</th>\n",
       "    </tr>\n",
       "    <tr>\n",
       "      <th>client_id</th>\n",
       "      <th></th>\n",
       "      <th></th>\n",
       "    </tr>\n",
       "  </thead>\n",
       "  <tbody>\n",
       "    <tr>\n",
       "      <th>c_1</th>\n",
       "      <td>68</td>\n",
       "      <td>39</td>\n",
       "    </tr>\n",
       "    <tr>\n",
       "      <th>c_10</th>\n",
       "      <td>67</td>\n",
       "      <td>58</td>\n",
       "    </tr>\n",
       "    <tr>\n",
       "      <th>c_100</th>\n",
       "      <td>31</td>\n",
       "      <td>8</td>\n",
       "    </tr>\n",
       "    <tr>\n",
       "      <th>c_1000</th>\n",
       "      <td>57</td>\n",
       "      <td>125</td>\n",
       "    </tr>\n",
       "    <tr>\n",
       "      <th>c_1001</th>\n",
       "      <td>41</td>\n",
       "      <td>102</td>\n",
       "    </tr>\n",
       "    <tr>\n",
       "      <th>...</th>\n",
       "      <td>...</td>\n",
       "      <td>...</td>\n",
       "    </tr>\n",
       "    <tr>\n",
       "      <th>c_995</th>\n",
       "      <td>68</td>\n",
       "      <td>14</td>\n",
       "    </tr>\n",
       "    <tr>\n",
       "      <th>c_996</th>\n",
       "      <td>53</td>\n",
       "      <td>95</td>\n",
       "    </tr>\n",
       "    <tr>\n",
       "      <th>c_997</th>\n",
       "      <td>29</td>\n",
       "      <td>59</td>\n",
       "    </tr>\n",
       "    <tr>\n",
       "      <th>c_998</th>\n",
       "      <td>22</td>\n",
       "      <td>53</td>\n",
       "    </tr>\n",
       "    <tr>\n",
       "      <th>c_999</th>\n",
       "      <td>59</td>\n",
       "      <td>46</td>\n",
       "    </tr>\n",
       "  </tbody>\n",
       "</table>\n",
       "<p>8600 rows × 2 columns</p>\n",
       "</div>"
      ],
      "text/plain": [
       "           age  count\n",
       "client_id            \n",
       "c_1         68     39\n",
       "c_10        67     58\n",
       "c_100       31      8\n",
       "c_1000      57    125\n",
       "c_1001      41    102\n",
       "...        ...    ...\n",
       "c_995       68     14\n",
       "c_996       53     95\n",
       "c_997       29     59\n",
       "c_998       22     53\n",
       "c_999       59     46\n",
       "\n",
       "[8600 rows x 2 columns]"
      ]
     },
     "execution_count": 419,
     "metadata": {},
     "output_type": "execute_result"
    }
   ],
   "source": [
    "tot_achats_age=df_complet.groupby('client_id').agg(\n",
    "    age=('age', np.max),\n",
    "    count=('session_id', np.count_nonzero))\n",
    "tot_achats_age"
   ]
  },
  {
   "cell_type": "code",
   "execution_count": 420,
   "id": "a6264dc3",
   "metadata": {},
   "outputs": [
    {
     "data": {
      "image/png": "[encoded data removed]",
      "text/plain": [
       "<Figure size 640x480 with 1 Axes>"
      ]
     },
     "metadata": {},
     "output_type": "display_data"
    }
   ],
   "source": [
    "sns.scatterplot(data= tot_achats_age)\n",
    "plt.ylabel(\"Nombre d'achats\")\n",
    "plt.xlabel(\"Age (années)\")\n",
    "plt.title(\"Frequence d'achats selon l'âge\")\n",
    "plt.show()"
   ]
  },
  {
   "cell_type": "markdown",
   "id": "2740bc6e",
   "metadata": {},
   "source": [
    "**Enlever les points abérrants: à partir d'un nombre d'achat de 3k (graphiquement):**"
   ]
  },
  {
   "cell_type": "code",
   "execution_count": 507,
   "id": "c3679035",
   "metadata": {
    "scrolled": false
   },
   "outputs": [
    {
     "data": {
      "text/html": [
       "<div>\n",
       "<style scoped>\n",
       "    .dataframe tbody tr th:only-of-type {\n",
       "        vertical-align: middle;\n",
       "    }\n",
       "\n",
       "    .dataframe tbody tr th {\n",
       "        vertical-align: top;\n",
       "    }\n",
       "\n",
       "    .dataframe thead th {\n",
       "        text-align: right;\n",
       "    }\n",
       "</style>\n",
       "<table border=\"1\" class=\"dataframe\">\n",
       "  <thead>\n",
       "    <tr style=\"text-align: right;\">\n",
       "      <th></th>\n",
       "      <th>count</th>\n",
       "    </tr>\n",
       "    <tr>\n",
       "      <th>age</th>\n",
       "      <th></th>\n",
       "    </tr>\n",
       "  </thead>\n",
       "  <tbody>\n",
       "    <tr>\n",
       "      <th>19</th>\n",
       "      <td>34.665904</td>\n",
       "    </tr>\n",
       "    <tr>\n",
       "      <th>20</th>\n",
       "      <td>30.144828</td>\n",
       "    </tr>\n",
       "    <tr>\n",
       "      <th>21</th>\n",
       "      <td>31.634483</td>\n",
       "    </tr>\n",
       "    <tr>\n",
       "      <th>22</th>\n",
       "      <td>34.016000</td>\n",
       "    </tr>\n",
       "    <tr>\n",
       "      <th>23</th>\n",
       "      <td>32.463235</td>\n",
       "    </tr>\n",
       "    <tr>\n",
       "      <th>...</th>\n",
       "      <td>...</td>\n",
       "    </tr>\n",
       "    <tr>\n",
       "      <th>90</th>\n",
       "      <td>40.875000</td>\n",
       "    </tr>\n",
       "    <tr>\n",
       "      <th>91</th>\n",
       "      <td>51.833333</td>\n",
       "    </tr>\n",
       "    <tr>\n",
       "      <th>92</th>\n",
       "      <td>42.500000</td>\n",
       "    </tr>\n",
       "    <tr>\n",
       "      <th>93</th>\n",
       "      <td>56.500000</td>\n",
       "    </tr>\n",
       "    <tr>\n",
       "      <th>94</th>\n",
       "      <td>67.000000</td>\n",
       "    </tr>\n",
       "  </tbody>\n",
       "</table>\n",
       "<p>76 rows × 1 columns</p>\n",
       "</div>"
      ],
      "text/plain": [
       "         count\n",
       "age           \n",
       "19   34.665904\n",
       "20   30.144828\n",
       "21   31.634483\n",
       "22   34.016000\n",
       "23   32.463235\n",
       "..         ...\n",
       "90   40.875000\n",
       "91   51.833333\n",
       "92   42.500000\n",
       "93   56.500000\n",
       "94   67.000000\n",
       "\n",
       "[76 rows x 1 columns]"
      ]
     },
     "execution_count": 507,
     "metadata": {},
     "output_type": "execute_result"
    }
   ],
   "source": [
    "tot_achats_age = tot_achats_age[tot_achats_age['count']\n",
    "                                <3000].groupby([\"age\"]).agg({\"count\":\"mean\"})\n",
    "tot_achats_age"
   ]
  },
  {
   "cell_type": "code",
   "execution_count": 422,
   "id": "12198bc0",
   "metadata": {},
   "outputs": [
    {
     "data": {
      "image/png": "[encoded data removed]",
      "text/plain": [
       "<Figure size 640x480 with 1 Axes>"
      ]
     },
     "metadata": {},
     "output_type": "display_data"
    }
   ],
   "source": [
    "sns.scatterplot(data = tot_achats_age)\n",
    "plt.ylabel(\"Nombre d'achat\")\n",
    "plt.xlabel(\"Age\")\n",
    "plt.title(\"Nombre d'achat par age\")\n",
    "plt.show()"
   ]
  },
  {
   "cell_type": "markdown",
   "id": "5b8ffe17",
   "metadata": {},
   "source": [
    "Etape 3: Estimation de l'equation\n",
    "\n",
    "y (montant) = B1 * x (l'age) + B0 + residus\n",
    "\n",
    "H0: B1 est égal à 0\n",
    "\n",
    "H1: B1 est différent de 0\n",
    "\n",
    "Si la P_value est inférieure à 0,05, on rejette H0, donc, le B1 est différent de 0\n",
    "\n",
    "Si la P_value est supérieure à 0,05, on mantient H0, donc, le B1 est égal à 0"
   ]
  },
  {
   "cell_type": "code",
   "execution_count": 423,
   "id": "e6263928",
   "metadata": {},
   "outputs": [
    {
     "data": {
      "text/html": [
       "<div>\n",
       "<style scoped>\n",
       "    .dataframe tbody tr th:only-of-type {\n",
       "        vertical-align: middle;\n",
       "    }\n",
       "\n",
       "    .dataframe tbody tr th {\n",
       "        vertical-align: top;\n",
       "    }\n",
       "\n",
       "    .dataframe thead th {\n",
       "        text-align: right;\n",
       "    }\n",
       "</style>\n",
       "<table border=\"1\" class=\"dataframe\">\n",
       "  <thead>\n",
       "    <tr style=\"text-align: right;\">\n",
       "      <th></th>\n",
       "      <th>age</th>\n",
       "      <th>count</th>\n",
       "    </tr>\n",
       "  </thead>\n",
       "  <tbody>\n",
       "    <tr>\n",
       "      <th>0</th>\n",
       "      <td>19</td>\n",
       "      <td>34.665904</td>\n",
       "    </tr>\n",
       "    <tr>\n",
       "      <th>1</th>\n",
       "      <td>20</td>\n",
       "      <td>30.144828</td>\n",
       "    </tr>\n",
       "    <tr>\n",
       "      <th>2</th>\n",
       "      <td>21</td>\n",
       "      <td>31.634483</td>\n",
       "    </tr>\n",
       "    <tr>\n",
       "      <th>3</th>\n",
       "      <td>22</td>\n",
       "      <td>34.016000</td>\n",
       "    </tr>\n",
       "    <tr>\n",
       "      <th>4</th>\n",
       "      <td>23</td>\n",
       "      <td>32.463235</td>\n",
       "    </tr>\n",
       "  </tbody>\n",
       "</table>\n",
       "</div>"
      ],
      "text/plain": [
       "   age      count\n",
       "0   19  34.665904\n",
       "1   20  30.144828\n",
       "2   21  31.634483\n",
       "3   22  34.016000\n",
       "4   23  32.463235"
      ]
     },
     "execution_count": 423,
     "metadata": {},
     "output_type": "execute_result"
    }
   ],
   "source": [
    "tot_achats_age.reset_index(inplace=True)\n",
    "tot_achats_age.head()"
   ]
  },
  {
   "cell_type": "code",
   "execution_count": 424,
   "id": "63a48da2",
   "metadata": {},
   "outputs": [
    {
     "data": {
      "text/html": [
       "<table class=\"simpletable\">\n",
       "<caption>OLS Regression Results</caption>\n",
       "<tr>\n",
       "  <th>Dep. Variable:</th>          <td>count</td>      <th>  R-squared:         </th> <td>   0.048</td>\n",
       "</tr>\n",
       "<tr>\n",
       "  <th>Model:</th>                   <td>OLS</td>       <th>  Adj. R-squared:    </th> <td>   0.035</td>\n",
       "</tr>\n",
       "<tr>\n",
       "  <th>Method:</th>             <td>Least Squares</td>  <th>  F-statistic:       </th> <td>   3.750</td>\n",
       "</tr>\n",
       "<tr>\n",
       "  <th>Date:</th>             <td>Thu, 30 Mar 2023</td> <th>  Prob (F-statistic):</th>  <td>0.0566</td> \n",
       "</tr>\n",
       "<tr>\n",
       "  <th>Time:</th>                 <td>11:27:53</td>     <th>  Log-Likelihood:    </th> <td> -368.57</td>\n",
       "</tr>\n",
       "<tr>\n",
       "  <th>No. Observations:</th>      <td>    76</td>      <th>  AIC:               </th> <td>   741.1</td>\n",
       "</tr>\n",
       "<tr>\n",
       "  <th>Df Residuals:</th>          <td>    74</td>      <th>  BIC:               </th> <td>   745.8</td>\n",
       "</tr>\n",
       "<tr>\n",
       "  <th>Df Model:</th>              <td>     1</td>      <th>                     </th>     <td> </td>   \n",
       "</tr>\n",
       "<tr>\n",
       "  <th>Covariance Type:</th>      <td>nonrobust</td>    <th>                     </th>     <td> </td>   \n",
       "</tr>\n",
       "</table>\n",
       "<table class=\"simpletable\">\n",
       "<tr>\n",
       "      <td></td>         <th>coef</th>     <th>std err</th>      <th>t</th>      <th>P>|t|</th>  <th>[0.025</th>    <th>0.975]</th>  \n",
       "</tr>\n",
       "<tr>\n",
       "  <th>age</th>       <td>   -0.3171</td> <td>    0.164</td> <td>   -1.936</td> <td> 0.057</td> <td>   -0.643</td> <td>    0.009</td>\n",
       "</tr>\n",
       "<tr>\n",
       "  <th>intercept</th> <td>   84.7749</td> <td>    9.924</td> <td>    8.542</td> <td> 0.000</td> <td>   65.001</td> <td>  104.549</td>\n",
       "</tr>\n",
       "</table>\n",
       "<table class=\"simpletable\">\n",
       "<tr>\n",
       "  <th>Omnibus:</th>       <td> 6.771</td> <th>  Durbin-Watson:     </th> <td>   0.206</td>\n",
       "</tr>\n",
       "<tr>\n",
       "  <th>Prob(Omnibus):</th> <td> 0.034</td> <th>  Jarque-Bera (JB):  </th> <td>   4.005</td>\n",
       "</tr>\n",
       "<tr>\n",
       "  <th>Skew:</th>          <td> 0.375</td> <th>  Prob(JB):          </th> <td>   0.135</td>\n",
       "</tr>\n",
       "<tr>\n",
       "  <th>Kurtosis:</th>      <td> 2.162</td> <th>  Cond. No.          </th> <td>    167.</td>\n",
       "</tr>\n",
       "</table><br/><br/>Notes:<br/>[1] Standard Errors assume that the covariance matrix of the errors is correctly specified."
      ],
      "text/plain": [
       "<class 'statsmodels.iolib.summary.Summary'>\n",
       "\"\"\"\n",
       "                            OLS Regression Results                            \n",
       "==============================================================================\n",
       "Dep. Variable:                  count   R-squared:                       0.048\n",
       "Model:                            OLS   Adj. R-squared:                  0.035\n",
       "Method:                 Least Squares   F-statistic:                     3.750\n",
       "Date:                Thu, 30 Mar 2023   Prob (F-statistic):             0.0566\n",
       "Time:                        11:27:53   Log-Likelihood:                -368.57\n",
       "No. Observations:                  76   AIC:                             741.1\n",
       "Df Residuals:                      74   BIC:                             745.8\n",
       "Df Model:                           1                                         \n",
       "Covariance Type:            nonrobust                                         \n",
       "==============================================================================\n",
       "                 coef    std err          t      P>|t|      [0.025      0.975]\n",
       "------------------------------------------------------------------------------\n",
       "age           -0.3171      0.164     -1.936      0.057      -0.643       0.009\n",
       "intercept     84.7749      9.924      8.542      0.000      65.001     104.549\n",
       "==============================================================================\n",
       "Omnibus:                        6.771   Durbin-Watson:                   0.206\n",
       "Prob(Omnibus):                  0.034   Jarque-Bera (JB):                4.005\n",
       "Skew:                           0.375   Prob(JB):                        0.135\n",
       "Kurtosis:                       2.162   Cond. No.                         167.\n",
       "==============================================================================\n",
       "\n",
       "Notes:\n",
       "[1] Standard Errors assume that the covariance matrix of the errors is correctly specified.\n",
       "\"\"\""
      ]
     },
     "execution_count": 424,
     "metadata": {},
     "output_type": "execute_result"
    }
   ],
   "source": [
    "#computstat\n",
    "import statsmodels.api as sm\n",
    "tot_achats_age['intercept']=1\n",
    "lm=sm.OLS(tot_achats_age['count'],tot_achats_age[['age','intercept']])\n",
    "results2=lm.fit()\n",
    "results2.summary()"
   ]
  },
  {
   "cell_type": "markdown",
   "id": "3b79ae93",
   "metadata": {},
   "source": [
    "y (frequence d'achat) = -0.32 * x (l'age) + 84.77 + residus\n",
    "On va vérifier si les residus suivent une loi normale pour conclure la fiabilité de notre modèle\n",
    "H0:l'échantillon suit une loi normale\n",
    "H1:l'échantillon ne suit pas une loi normale\n",
    "Si la P_value est inférieure à 0,05, on rejette H0, donc, l'échantillon ne suit pas une loi normale\n",
    "Si la P_value est supérieure à 0,05, on mantient H0, donc, l'échantillon suit une loi normale"
   ]
  },
  {
   "cell_type": "markdown",
   "id": "cf1f6d6e",
   "metadata": {},
   "source": [
    "**Condition: Normalité des résidus:**"
   ]
  },
  {
   "cell_type": "code",
   "execution_count": 425,
   "id": "4beaeef6",
   "metadata": {},
   "outputs": [
    {
     "data": {
      "text/plain": [
       "ShapiroResult(statistic=0.9007810354232788, pvalue=2.0692274119937792e-05)"
      ]
     },
     "execution_count": 425,
     "metadata": {},
     "output_type": "execute_result"
    }
   ],
   "source": [
    "st.shapiro(results2.resid)"
   ]
  },
  {
   "cell_type": "markdown",
   "id": "157cc4fa",
   "metadata": {},
   "source": [
    "Conclusion: la P_value est inférieure à 0,05, on rejette H0, donc, les residus ne suivent pas une loi normale\n",
    "Donc, on passe un test non parametrique Spearman pour conclure sur la corrélation entre les deux variables (age X montant dépensé)"
   ]
  },
  {
   "cell_type": "markdown",
   "id": "17b57fc5",
   "metadata": {},
   "source": [
    "Spearman Test:\n",
    "\n",
    "H0:les variables sont indépendentes\n",
    "\n",
    "H1:les variables sont dépendentes\n",
    "\n",
    "Si la P_value est inférieure à 0,05, on rejette H0, donc, les variables sont dépendentes\n",
    "\n",
    "Si la P_value est supérieure à 0,05, on mantient H0, donc, les variables sont indépendentes"
   ]
  },
  {
   "cell_type": "markdown",
   "id": "408affd5",
   "metadata": {},
   "source": [
    "**Teste non-parametrique de SpearmanR:**"
   ]
  },
  {
   "cell_type": "code",
   "execution_count": 426,
   "id": "88201a1c",
   "metadata": {},
   "outputs": [
    {
     "data": {
      "text/plain": [
       "SpearmanrResult(correlation=-0.00016404647983595352, pvalue=0.9988778380717482)"
      ]
     },
     "execution_count": 426,
     "metadata": {},
     "output_type": "execute_result"
    }
   ],
   "source": [
    "st.spearmanr(tot_achats_age['count'],tot_achats_age['age'])"
   ]
  },
  {
   "cell_type": "markdown",
   "id": "8feb6404",
   "metadata": {},
   "source": [
    "La P_value est superieure à 0,05, on mantient H0, donc, les variables sont indépendentes"
   ]
  },
  {
   "cell_type": "markdown",
   "id": "ce00fdac",
   "metadata": {},
   "source": [
    "**On veut explorer la rélation que pour la 3eme catégorie d'age: supérieure à 50 ans:**"
   ]
  },
  {
   "cell_type": "code",
   "execution_count": 427,
   "id": "74d4648c",
   "metadata": {},
   "outputs": [
    {
     "data": {
      "text/html": [
       "<table class=\"simpletable\">\n",
       "<caption>OLS Regression Results</caption>\n",
       "<tr>\n",
       "  <th>Dep. Variable:</th>          <td>count</td>      <th>  R-squared:         </th> <td>   0.135</td>\n",
       "</tr>\n",
       "<tr>\n",
       "  <th>Model:</th>                   <td>OLS</td>       <th>  Adj. R-squared:    </th> <td>   0.114</td>\n",
       "</tr>\n",
       "<tr>\n",
       "  <th>Method:</th>             <td>Least Squares</td>  <th>  F-statistic:       </th> <td>   6.531</td>\n",
       "</tr>\n",
       "<tr>\n",
       "  <th>Date:</th>             <td>Thu, 30 Mar 2023</td> <th>  Prob (F-statistic):</th>  <td>0.0143</td> \n",
       "</tr>\n",
       "<tr>\n",
       "  <th>Time:</th>                 <td>11:27:53</td>     <th>  Log-Likelihood:    </th> <td> -165.23</td>\n",
       "</tr>\n",
       "<tr>\n",
       "  <th>No. Observations:</th>      <td>    44</td>      <th>  AIC:               </th> <td>   334.5</td>\n",
       "</tr>\n",
       "<tr>\n",
       "  <th>Df Residuals:</th>          <td>    42</td>      <th>  BIC:               </th> <td>   338.0</td>\n",
       "</tr>\n",
       "<tr>\n",
       "  <th>Df Model:</th>              <td>     1</td>      <th>                     </th>     <td> </td>   \n",
       "</tr>\n",
       "<tr>\n",
       "  <th>Covariance Type:</th>      <td>nonrobust</td>    <th>                     </th>     <td> </td>   \n",
       "</tr>\n",
       "</table>\n",
       "<table class=\"simpletable\">\n",
       "<tr>\n",
       "      <td></td>         <th>coef</th>     <th>std err</th>      <th>t</th>      <th>P>|t|</th>  <th>[0.025</th>    <th>0.975]</th>  \n",
       "</tr>\n",
       "<tr>\n",
       "  <th>age</th>       <td>   -0.3212</td> <td>    0.126</td> <td>   -2.555</td> <td> 0.014</td> <td>   -0.575</td> <td>   -0.068</td>\n",
       "</tr>\n",
       "<tr>\n",
       "  <th>intercept</th> <td>   78.3894</td> <td>    9.250</td> <td>    8.474</td> <td> 0.000</td> <td>   59.722</td> <td>   97.057</td>\n",
       "</tr>\n",
       "</table>\n",
       "<table class=\"simpletable\">\n",
       "<tr>\n",
       "  <th>Omnibus:</th>       <td>47.367</td> <th>  Durbin-Watson:     </th> <td>   1.300</td>\n",
       "</tr>\n",
       "<tr>\n",
       "  <th>Prob(Omnibus):</th> <td> 0.000</td> <th>  Jarque-Bera (JB):  </th> <td> 240.615</td>\n",
       "</tr>\n",
       "<tr>\n",
       "  <th>Skew:</th>          <td> 2.579</td> <th>  Prob(JB):          </th> <td>5.64e-53</td>\n",
       "</tr>\n",
       "<tr>\n",
       "  <th>Kurtosis:</th>      <td>13.229</td> <th>  Cond. No.          </th> <td>    427.</td>\n",
       "</tr>\n",
       "</table><br/><br/>Notes:<br/>[1] Standard Errors assume that the covariance matrix of the errors is correctly specified."
      ],
      "text/plain": [
       "<class 'statsmodels.iolib.summary.Summary'>\n",
       "\"\"\"\n",
       "                            OLS Regression Results                            \n",
       "==============================================================================\n",
       "Dep. Variable:                  count   R-squared:                       0.135\n",
       "Model:                            OLS   Adj. R-squared:                  0.114\n",
       "Method:                 Least Squares   F-statistic:                     6.531\n",
       "Date:                Thu, 30 Mar 2023   Prob (F-statistic):             0.0143\n",
       "Time:                        11:27:53   Log-Likelihood:                -165.23\n",
       "No. Observations:                  44   AIC:                             334.5\n",
       "Df Residuals:                      42   BIC:                             338.0\n",
       "Df Model:                           1                                         \n",
       "Covariance Type:            nonrobust                                         \n",
       "==============================================================================\n",
       "                 coef    std err          t      P>|t|      [0.025      0.975]\n",
       "------------------------------------------------------------------------------\n",
       "age           -0.3212      0.126     -2.555      0.014      -0.575      -0.068\n",
       "intercept     78.3894      9.250      8.474      0.000      59.722      97.057\n",
       "==============================================================================\n",
       "Omnibus:                       47.367   Durbin-Watson:                   1.300\n",
       "Prob(Omnibus):                  0.000   Jarque-Bera (JB):              240.615\n",
       "Skew:                           2.579   Prob(JB):                     5.64e-53\n",
       "Kurtosis:                      13.229   Cond. No.                         427.\n",
       "==============================================================================\n",
       "\n",
       "Notes:\n",
       "[1] Standard Errors assume that the covariance matrix of the errors is correctly specified.\n",
       "\"\"\""
      ]
     },
     "execution_count": 427,
     "metadata": {},
     "output_type": "execute_result"
    }
   ],
   "source": [
    "lm=sm.OLS(tot_achats_age[tot_achats_age.age>50]['count'],tot_achats_age[tot_achats_age.age>50][['age','intercept']])\n",
    "results2=lm.fit()\n",
    "results2.summary()"
   ]
  },
  {
   "cell_type": "markdown",
   "id": "d69d8c8b",
   "metadata": {},
   "source": [
    "**Condition: Normalité des résidus:**"
   ]
  },
  {
   "cell_type": "code",
   "execution_count": 428,
   "id": "c648df0b",
   "metadata": {},
   "outputs": [
    {
     "data": {
      "text/plain": [
       "ShapiroResult(statistic=0.784675121307373, pvalue=1.377011471959122e-06)"
      ]
     },
     "execution_count": 428,
     "metadata": {},
     "output_type": "execute_result"
    }
   ],
   "source": [
    "st.shapiro(results2.resid)"
   ]
  },
  {
   "cell_type": "markdown",
   "id": "8c8c39a1",
   "metadata": {},
   "source": [
    "Conclusion: la P_value est inférieure à 0,05, on rejette H0, donc, les residus ne suivent pas une loi normale\n",
    "Donc, on passe un test non parametrique Spearman pour conclure sur la corrélation entre les deux variables (age X fréquence d'achat)"
   ]
  },
  {
   "cell_type": "markdown",
   "id": "d17c8d86",
   "metadata": {},
   "source": [
    "### Age X Prix Moyen:"
   ]
  },
  {
   "cell_type": "markdown",
   "id": "793d4b1c",
   "metadata": {},
   "source": [
    "Etape 1: On veut étudier la relation entre l'age et le prix moyen:"
   ]
  },
  {
   "cell_type": "code",
   "execution_count": 562,
   "id": "c9729701",
   "metadata": {},
   "outputs": [
    {
     "data": {
      "text/html": [
       "<div>\n",
       "<style scoped>\n",
       "    .dataframe tbody tr th:only-of-type {\n",
       "        vertical-align: middle;\n",
       "    }\n",
       "\n",
       "    .dataframe tbody tr th {\n",
       "        vertical-align: top;\n",
       "    }\n",
       "\n",
       "    .dataframe thead th {\n",
       "        text-align: right;\n",
       "    }\n",
       "</style>\n",
       "<table border=\"1\" class=\"dataframe\">\n",
       "  <thead>\n",
       "    <tr style=\"text-align: right;\">\n",
       "      <th></th>\n",
       "      <th>age</th>\n",
       "      <th>prix_moyen</th>\n",
       "      <th>nb_ventes</th>\n",
       "    </tr>\n",
       "    <tr>\n",
       "      <th>client_id</th>\n",
       "      <th></th>\n",
       "      <th></th>\n",
       "      <th></th>\n",
       "    </tr>\n",
       "  </thead>\n",
       "  <tbody>\n",
       "    <tr>\n",
       "      <th>c_1</th>\n",
       "      <td>68</td>\n",
       "      <td>14.312308</td>\n",
       "      <td>39</td>\n",
       "    </tr>\n",
       "    <tr>\n",
       "      <th>c_10</th>\n",
       "      <td>67</td>\n",
       "      <td>23.337931</td>\n",
       "      <td>58</td>\n",
       "    </tr>\n",
       "    <tr>\n",
       "      <th>c_100</th>\n",
       "      <td>31</td>\n",
       "      <td>31.856250</td>\n",
       "      <td>8</td>\n",
       "    </tr>\n",
       "    <tr>\n",
       "      <th>c_1000</th>\n",
       "      <td>57</td>\n",
       "      <td>18.095120</td>\n",
       "      <td>125</td>\n",
       "    </tr>\n",
       "    <tr>\n",
       "      <th>c_1001</th>\n",
       "      <td>41</td>\n",
       "      <td>17.773137</td>\n",
       "      <td>102</td>\n",
       "    </tr>\n",
       "    <tr>\n",
       "      <th>...</th>\n",
       "      <td>...</td>\n",
       "      <td>...</td>\n",
       "      <td>...</td>\n",
       "    </tr>\n",
       "    <tr>\n",
       "      <th>c_995</th>\n",
       "      <td>68</td>\n",
       "      <td>13.529286</td>\n",
       "      <td>14</td>\n",
       "    </tr>\n",
       "    <tr>\n",
       "      <th>c_996</th>\n",
       "      <td>53</td>\n",
       "      <td>17.111368</td>\n",
       "      <td>95</td>\n",
       "    </tr>\n",
       "    <tr>\n",
       "      <th>c_997</th>\n",
       "      <td>29</td>\n",
       "      <td>25.254407</td>\n",
       "      <td>59</td>\n",
       "    </tr>\n",
       "    <tr>\n",
       "      <th>c_998</th>\n",
       "      <td>22</td>\n",
       "      <td>52.450566</td>\n",
       "      <td>53</td>\n",
       "    </tr>\n",
       "    <tr>\n",
       "      <th>c_999</th>\n",
       "      <td>59</td>\n",
       "      <td>15.247826</td>\n",
       "      <td>46</td>\n",
       "    </tr>\n",
       "  </tbody>\n",
       "</table>\n",
       "<p>8600 rows × 3 columns</p>\n",
       "</div>"
      ],
      "text/plain": [
       "           age  prix_moyen  nb_ventes\n",
       "client_id                            \n",
       "c_1         68   14.312308         39\n",
       "c_10        67   23.337931         58\n",
       "c_100       31   31.856250          8\n",
       "c_1000      57   18.095120        125\n",
       "c_1001      41   17.773137        102\n",
       "...        ...         ...        ...\n",
       "c_995       68   13.529286         14\n",
       "c_996       53   17.111368         95\n",
       "c_997       29   25.254407         59\n",
       "c_998       22   52.450566         53\n",
       "c_999       59   15.247826         46\n",
       "\n",
       "[8600 rows x 3 columns]"
      ]
     },
     "execution_count": 562,
     "metadata": {},
     "output_type": "execute_result"
    }
   ],
   "source": [
    "age_pix_moyen=df_complet.groupby('client_id').agg(\n",
    "    age=('age', np.max),\n",
    "    prix_moyen=('price', np.mean),\n",
    "    nb_ventes=('session_id', np.count_nonzero))\n",
    "age_pix_moyen"
   ]
  },
  {
   "cell_type": "code",
   "execution_count": 563,
   "id": "55a76a8c",
   "metadata": {},
   "outputs": [
    {
     "data": {
      "text/html": [
       "<div>\n",
       "<style scoped>\n",
       "    .dataframe tbody tr th:only-of-type {\n",
       "        vertical-align: middle;\n",
       "    }\n",
       "\n",
       "    .dataframe tbody tr th {\n",
       "        vertical-align: top;\n",
       "    }\n",
       "\n",
       "    .dataframe thead th {\n",
       "        text-align: right;\n",
       "    }\n",
       "</style>\n",
       "<table border=\"1\" class=\"dataframe\">\n",
       "  <thead>\n",
       "    <tr style=\"text-align: right;\">\n",
       "      <th></th>\n",
       "      <th>client_id</th>\n",
       "      <th>age</th>\n",
       "      <th>prix_moyen</th>\n",
       "      <th>nb_ventes</th>\n",
       "    </tr>\n",
       "  </thead>\n",
       "  <tbody>\n",
       "    <tr>\n",
       "      <th>0</th>\n",
       "      <td>c_1</td>\n",
       "      <td>68</td>\n",
       "      <td>14.312308</td>\n",
       "      <td>39</td>\n",
       "    </tr>\n",
       "    <tr>\n",
       "      <th>1</th>\n",
       "      <td>c_10</td>\n",
       "      <td>67</td>\n",
       "      <td>23.337931</td>\n",
       "      <td>58</td>\n",
       "    </tr>\n",
       "    <tr>\n",
       "      <th>2</th>\n",
       "      <td>c_100</td>\n",
       "      <td>31</td>\n",
       "      <td>31.856250</td>\n",
       "      <td>8</td>\n",
       "    </tr>\n",
       "    <tr>\n",
       "      <th>3</th>\n",
       "      <td>c_1000</td>\n",
       "      <td>57</td>\n",
       "      <td>18.095120</td>\n",
       "      <td>125</td>\n",
       "    </tr>\n",
       "    <tr>\n",
       "      <th>4</th>\n",
       "      <td>c_1001</td>\n",
       "      <td>41</td>\n",
       "      <td>17.773137</td>\n",
       "      <td>102</td>\n",
       "    </tr>\n",
       "  </tbody>\n",
       "</table>\n",
       "</div>"
      ],
      "text/plain": [
       "  client_id  age  prix_moyen  nb_ventes\n",
       "0       c_1   68   14.312308         39\n",
       "1      c_10   67   23.337931         58\n",
       "2     c_100   31   31.856250          8\n",
       "3    c_1000   57   18.095120        125\n",
       "4    c_1001   41   17.773137        102"
      ]
     },
     "execution_count": 563,
     "metadata": {},
     "output_type": "execute_result"
    }
   ],
   "source": [
    "age_pix_moyen.reset_index(inplace=True)\n",
    "age_pix_moyen.head()"
   ]
  },
  {
   "cell_type": "code",
   "execution_count": 564,
   "id": "8bd9a67a",
   "metadata": {},
   "outputs": [
    {
     "data": {
      "image/png": "[encoded data removed]",
      "text/plain": [
       "<Figure size 640x480 with 1 Axes>"
      ]
     },
     "metadata": {},
     "output_type": "display_data"
    }
   ],
   "source": [
    "sns.scatterplot(data= age_pix_moyen)\n",
    "plt.ylabel(\"Nombre d'achats\")\n",
    "plt.xlabel(\"Age (années)\")\n",
    "plt.title(\"Prix Moyen selon l'âge\")\n",
    "plt.show()"
   ]
  },
  {
   "cell_type": "code",
   "execution_count": 565,
   "id": "97e6095a",
   "metadata": {},
   "outputs": [
    {
     "data": {
      "text/html": [
       "<div>\n",
       "<style scoped>\n",
       "    .dataframe tbody tr th:only-of-type {\n",
       "        vertical-align: middle;\n",
       "    }\n",
       "\n",
       "    .dataframe tbody tr th {\n",
       "        vertical-align: top;\n",
       "    }\n",
       "\n",
       "    .dataframe thead th {\n",
       "        text-align: right;\n",
       "    }\n",
       "</style>\n",
       "<table border=\"1\" class=\"dataframe\">\n",
       "  <thead>\n",
       "    <tr style=\"text-align: right;\">\n",
       "      <th></th>\n",
       "      <th>prix_moyen</th>\n",
       "    </tr>\n",
       "    <tr>\n",
       "      <th>age</th>\n",
       "      <th></th>\n",
       "    </tr>\n",
       "  </thead>\n",
       "  <tbody>\n",
       "    <tr>\n",
       "      <th>19</th>\n",
       "      <td>40.962838</td>\n",
       "    </tr>\n",
       "    <tr>\n",
       "      <th>20</th>\n",
       "      <td>44.401066</td>\n",
       "    </tr>\n",
       "    <tr>\n",
       "      <th>21</th>\n",
       "      <td>40.802707</td>\n",
       "    </tr>\n",
       "    <tr>\n",
       "      <th>22</th>\n",
       "      <td>44.884187</td>\n",
       "    </tr>\n",
       "    <tr>\n",
       "      <th>23</th>\n",
       "      <td>38.891203</td>\n",
       "    </tr>\n",
       "    <tr>\n",
       "      <th>...</th>\n",
       "      <td>...</td>\n",
       "    </tr>\n",
       "    <tr>\n",
       "      <th>90</th>\n",
       "      <td>16.048921</td>\n",
       "    </tr>\n",
       "    <tr>\n",
       "      <th>91</th>\n",
       "      <td>16.620300</td>\n",
       "    </tr>\n",
       "    <tr>\n",
       "      <th>92</th>\n",
       "      <td>17.350981</td>\n",
       "    </tr>\n",
       "    <tr>\n",
       "      <th>93</th>\n",
       "      <td>14.781460</td>\n",
       "    </tr>\n",
       "    <tr>\n",
       "      <th>94</th>\n",
       "      <td>15.984168</td>\n",
       "    </tr>\n",
       "  </tbody>\n",
       "</table>\n",
       "<p>76 rows × 1 columns</p>\n",
       "</div>"
      ],
      "text/plain": [
       "     prix_moyen\n",
       "age            \n",
       "19    40.962838\n",
       "20    44.401066\n",
       "21    40.802707\n",
       "22    44.884187\n",
       "23    38.891203\n",
       "..          ...\n",
       "90    16.048921\n",
       "91    16.620300\n",
       "92    17.350981\n",
       "93    14.781460\n",
       "94    15.984168\n",
       "\n",
       "[76 rows x 1 columns]"
      ]
     },
     "execution_count": 565,
     "metadata": {},
     "output_type": "execute_result"
    }
   ],
   "source": [
    "age_pix_moyen = age_pix_moyen[age_pix_moyen['prix_moyen']\n",
    "                                <3000].groupby([\"age\"]).agg({\"prix_moyen\":\"mean\"})\n",
    "age_pix_moyen"
   ]
  },
  {
   "cell_type": "code",
   "execution_count": 566,
   "id": "90de8c4b",
   "metadata": {},
   "outputs": [
    {
     "data": {
      "image/png": "[encoded data removed]",
      "text/plain": [
       "<Figure size 640x480 with 1 Axes>"
      ]
     },
     "metadata": {},
     "output_type": "display_data"
    }
   ],
   "source": [
    "sns.scatterplot(data = age_pix_moyen)\n",
    "plt.ylabel(\"Prix Moyen\")\n",
    "plt.xlabel(\"Age\")\n",
    "plt.title(\"Prix moyen par age\")\n",
    "plt.show()"
   ]
  },
  {
   "cell_type": "code",
   "execution_count": 567,
   "id": "e2326f52",
   "metadata": {},
   "outputs": [
    {
     "data": {
      "text/html": [
       "<div>\n",
       "<style scoped>\n",
       "    .dataframe tbody tr th:only-of-type {\n",
       "        vertical-align: middle;\n",
       "    }\n",
       "\n",
       "    .dataframe tbody tr th {\n",
       "        vertical-align: top;\n",
       "    }\n",
       "\n",
       "    .dataframe thead th {\n",
       "        text-align: right;\n",
       "    }\n",
       "</style>\n",
       "<table border=\"1\" class=\"dataframe\">\n",
       "  <thead>\n",
       "    <tr style=\"text-align: right;\">\n",
       "      <th></th>\n",
       "      <th>age</th>\n",
       "      <th>prix_moyen</th>\n",
       "    </tr>\n",
       "  </thead>\n",
       "  <tbody>\n",
       "    <tr>\n",
       "      <th>0</th>\n",
       "      <td>19</td>\n",
       "      <td>40.962838</td>\n",
       "    </tr>\n",
       "    <tr>\n",
       "      <th>1</th>\n",
       "      <td>20</td>\n",
       "      <td>44.401066</td>\n",
       "    </tr>\n",
       "    <tr>\n",
       "      <th>2</th>\n",
       "      <td>21</td>\n",
       "      <td>40.802707</td>\n",
       "    </tr>\n",
       "    <tr>\n",
       "      <th>3</th>\n",
       "      <td>22</td>\n",
       "      <td>44.884187</td>\n",
       "    </tr>\n",
       "    <tr>\n",
       "      <th>4</th>\n",
       "      <td>23</td>\n",
       "      <td>38.891203</td>\n",
       "    </tr>\n",
       "  </tbody>\n",
       "</table>\n",
       "</div>"
      ],
      "text/plain": [
       "   age  prix_moyen\n",
       "0   19   40.962838\n",
       "1   20   44.401066\n",
       "2   21   40.802707\n",
       "3   22   44.884187\n",
       "4   23   38.891203"
      ]
     },
     "execution_count": 567,
     "metadata": {},
     "output_type": "execute_result"
    }
   ],
   "source": [
    "age_pix_moyen.reset_index(inplace=True)\n",
    "age_pix_moyen.head()"
   ]
  },
  {
   "cell_type": "code",
   "execution_count": 568,
   "id": "90ecf3ca",
   "metadata": {},
   "outputs": [
    {
     "data": {
      "text/html": [
       "<table class=\"simpletable\">\n",
       "<caption>OLS Regression Results</caption>\n",
       "<tr>\n",
       "  <th>Dep. Variable:</th>       <td>prix_moyen</td>    <th>  R-squared:         </th> <td>   0.317</td>\n",
       "</tr>\n",
       "<tr>\n",
       "  <th>Model:</th>                   <td>OLS</td>       <th>  Adj. R-squared:    </th> <td>   0.308</td>\n",
       "</tr>\n",
       "<tr>\n",
       "  <th>Method:</th>             <td>Least Squares</td>  <th>  F-statistic:       </th> <td>   34.31</td>\n",
       "</tr>\n",
       "<tr>\n",
       "  <th>Date:</th>             <td>Mon, 10 Apr 2023</td> <th>  Prob (F-statistic):</th> <td>1.21e-07</td>\n",
       "</tr>\n",
       "<tr>\n",
       "  <th>Time:</th>                 <td>16:22:21</td>     <th>  Log-Likelihood:    </th> <td> -268.78</td>\n",
       "</tr>\n",
       "<tr>\n",
       "  <th>No. Observations:</th>      <td>    76</td>      <th>  AIC:               </th> <td>   541.6</td>\n",
       "</tr>\n",
       "<tr>\n",
       "  <th>Df Residuals:</th>          <td>    74</td>      <th>  BIC:               </th> <td>   546.2</td>\n",
       "</tr>\n",
       "<tr>\n",
       "  <th>Df Model:</th>              <td>     1</td>      <th>                     </th>     <td> </td>   \n",
       "</tr>\n",
       "<tr>\n",
       "  <th>Covariance Type:</th>      <td>nonrobust</td>    <th>                     </th>     <td> </td>   \n",
       "</tr>\n",
       "</table>\n",
       "<table class=\"simpletable\">\n",
       "<tr>\n",
       "      <td></td>         <th>coef</th>     <th>std err</th>      <th>t</th>      <th>P>|t|</th>  <th>[0.025</th>    <th>0.975]</th>  \n",
       "</tr>\n",
       "<tr>\n",
       "  <th>age</th>       <td>   -0.2580</td> <td>    0.044</td> <td>   -5.857</td> <td> 0.000</td> <td>   -0.346</td> <td>   -0.170</td>\n",
       "</tr>\n",
       "<tr>\n",
       "  <th>intercept</th> <td>   34.6936</td> <td>    2.669</td> <td>   12.997</td> <td> 0.000</td> <td>   29.375</td> <td>   40.012</td>\n",
       "</tr>\n",
       "</table>\n",
       "<table class=\"simpletable\">\n",
       "<tr>\n",
       "  <th>Omnibus:</th>       <td> 4.795</td> <th>  Durbin-Watson:     </th> <td>   0.184</td>\n",
       "</tr>\n",
       "<tr>\n",
       "  <th>Prob(Omnibus):</th> <td> 0.091</td> <th>  Jarque-Bera (JB):  </th> <td>   2.785</td>\n",
       "</tr>\n",
       "<tr>\n",
       "  <th>Skew:</th>          <td> 0.252</td> <th>  Prob(JB):          </th> <td>   0.249</td>\n",
       "</tr>\n",
       "<tr>\n",
       "  <th>Kurtosis:</th>      <td> 2.209</td> <th>  Cond. No.          </th> <td>    167.</td>\n",
       "</tr>\n",
       "</table><br/><br/>Notes:<br/>[1] Standard Errors assume that the covariance matrix of the errors is correctly specified."
      ],
      "text/plain": [
       "<class 'statsmodels.iolib.summary.Summary'>\n",
       "\"\"\"\n",
       "                            OLS Regression Results                            \n",
       "==============================================================================\n",
       "Dep. Variable:             prix_moyen   R-squared:                       0.317\n",
       "Model:                            OLS   Adj. R-squared:                  0.308\n",
       "Method:                 Least Squares   F-statistic:                     34.31\n",
       "Date:                Mon, 10 Apr 2023   Prob (F-statistic):           1.21e-07\n",
       "Time:                        16:22:21   Log-Likelihood:                -268.78\n",
       "No. Observations:                  76   AIC:                             541.6\n",
       "Df Residuals:                      74   BIC:                             546.2\n",
       "Df Model:                           1                                         \n",
       "Covariance Type:            nonrobust                                         \n",
       "==============================================================================\n",
       "                 coef    std err          t      P>|t|      [0.025      0.975]\n",
       "------------------------------------------------------------------------------\n",
       "age           -0.2580      0.044     -5.857      0.000      -0.346      -0.170\n",
       "intercept     34.6936      2.669     12.997      0.000      29.375      40.012\n",
       "==============================================================================\n",
       "Omnibus:                        4.795   Durbin-Watson:                   0.184\n",
       "Prob(Omnibus):                  0.091   Jarque-Bera (JB):                2.785\n",
       "Skew:                           0.252   Prob(JB):                        0.249\n",
       "Kurtosis:                       2.209   Cond. No.                         167.\n",
       "==============================================================================\n",
       "\n",
       "Notes:\n",
       "[1] Standard Errors assume that the covariance matrix of the errors is correctly specified.\n",
       "\"\"\""
      ]
     },
     "execution_count": 568,
     "metadata": {},
     "output_type": "execute_result"
    }
   ],
   "source": [
    "#computstat\n",
    "import statsmodels.api as sm\n",
    "age_pix_moyen['intercept']=1\n",
    "lm=sm.OLS(age_pix_moyen['prix_moyen'],age_pix_moyen[['age', 'intercept']])\n",
    "results3=lm.fit()\n",
    "results3.summary()"
   ]
  },
  {
   "cell_type": "markdown",
   "id": "22318d7e",
   "metadata": {},
   "source": [
    "y (Prix moyen) = -0.37 * x (l'age) + 34.69 + residus\n",
    "On va vérifier si les residus suivent une loi normale pour conclure la fiabilité de notre modèle\n",
    "H0:l'échantillon suit une loi normale\n",
    "H1:l'échantillon ne suit pas une loi normale\n",
    "Si la P_value est inférieure à 0,05, on rejette H0, donc, l'échantillon ne suit pas une loi normale\n",
    "Si la P_value est supérieure à 0,05, on mantient H0, donc, l'échantillon suit une loi normale"
   ]
  },
  {
   "cell_type": "markdown",
   "id": "2d23598d",
   "metadata": {},
   "source": [
    "**Condition: Normalité des résidus:**"
   ]
  },
  {
   "cell_type": "code",
   "execution_count": 569,
   "id": "c3867c2b",
   "metadata": {},
   "outputs": [
    {
     "data": {
      "text/plain": [
       "ShapiroResult(statistic=0.9473468065261841, pvalue=0.00331050343811512)"
      ]
     },
     "execution_count": 569,
     "metadata": {},
     "output_type": "execute_result"
    }
   ],
   "source": [
    "st.shapiro(results3.resid)"
   ]
  },
  {
   "cell_type": "markdown",
   "id": "a848534b",
   "metadata": {},
   "source": [
    "Conclusion: la P_value est inférieure à 0,05, on rejette H0, donc, les residus ne suivent pas une loi normale\n",
    "Donc, on passe un test non parametrique Spearman pour conclure sur la corrélation entre les deux variables (age X prix moyen)"
   ]
  },
  {
   "cell_type": "markdown",
   "id": "e5bc6cb6",
   "metadata": {},
   "source": [
    "**Teste non-parametrique de SpearmanR:**"
   ]
  },
  {
   "cell_type": "code",
   "execution_count": 571,
   "id": "587519c9",
   "metadata": {},
   "outputs": [
    {
     "data": {
      "text/plain": [
       "SpearmanrResult(correlation=-0.08002734107997267, pvalue=0.49195478020821815)"
      ]
     },
     "execution_count": 571,
     "metadata": {},
     "output_type": "execute_result"
    }
   ],
   "source": [
    "st.spearmanr(age_pix_moyen['prix_moyen'],age_pix_moyen['age'])"
   ]
  },
  {
   "cell_type": "markdown",
   "id": "3254116b",
   "metadata": {},
   "source": [
    "Spearman Test:\n",
    "\n",
    "H0:les variables sont indépendentes\n",
    "\n",
    "H1:les variables sont dépendentes\n",
    "\n",
    "Si la P_value est inférieure à 0,05, on rejette H0, donc, les variables sont dépendentes\n",
    "\n",
    "Si la P_value est supérieure à 0,05, on mantient H0, donc, les variables sont indépendentes"
   ]
  },
  {
   "cell_type": "markdown",
   "id": "75bd2e67",
   "metadata": {},
   "source": [
    "La P_value est supérieure à 0,05, on maintient H0, donc, les variables sont indépendantes"
   ]
  }
 ],
 "metadata": {
  "kernelspec": {
   "display_name": "Python 3 (ipykernel)",
   "language": "python",
   "name": "python3"
  },
  "language_info": {
   "codemirror_mode": {
    "name": "ipython",
    "version": 3
   },
   "file_extension": ".py",
   "mimetype": "text/x-python",
   "name": "python",
   "nbconvert_exporter": "python",
   "pygments_lexer": "ipython3",
   "version": "3.9.13"
  }
 },
 "nbformat": 4,
 "nbformat_minor": 5
}
